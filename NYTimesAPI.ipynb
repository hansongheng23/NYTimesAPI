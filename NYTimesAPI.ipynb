{
 "cells": [
  {
   "cell_type": "markdown",
   "metadata": {},
   "source": [
    "First, you nened to make sure all the files in the same folder."
   ]
  },
  {
   "cell_type": "code",
   "execution_count": 8,
   "metadata": {
    "collapsed": false
   },
   "outputs": [
    {
     "data": {
      "text/plain": [
       "u'/Users/hanpoleon/Desktop/nytimesarticle-0.1.0'"
      ]
     },
     "execution_count": 8,
     "metadata": {},
     "output_type": "execute_result"
    }
   ],
   "source": [
    "%pwd"
   ]
  },
  {
   "cell_type": "code",
   "execution_count": 161,
   "metadata": {
    "collapsed": true
   },
   "outputs": [],
   "source": [
    "from nytimesarticle import articleAPI"
   ]
  },
  {
   "cell_type": "markdown",
   "metadata": {},
   "source": [
    "import articleAPI"
   ]
  },
  {
   "cell_type": "code",
   "execution_count": 180,
   "metadata": {
    "collapsed": true
   },
   "outputs": [],
   "source": [
    "api = articleAPI('b2db5703859f4df1a33f49be73d84324')"
   ]
  },
  {
   "cell_type": "markdown",
   "metadata": {},
   "source": [
    "activate articleAPI"
   ]
  },
  {
   "cell_type": "code",
   "execution_count": 185,
   "metadata": {
    "collapsed": false
   },
   "outputs": [],
   "source": [
    "articles = api.search( q = 'Obama', fq = {'headline':'Obama', 'source':['Reuters','AP', 'The New York Times']}, begin_date = 20111231, facet_field = ['source','day_of_week'], facet_filter = True )"
   ]
  },
  {
   "cell_type": "markdown",
   "metadata": {},
   "source": [
    "search articles you need "
   ]
  },
  {
   "cell_type": "code",
   "execution_count": 186,
   "metadata": {
    "collapsed": false
   },
   "outputs": [
    {
     "name": "stdout",
     "output_type": "stream",
     "text": [
      "{u'status': u'OK', u'response': {u'docs': [{u'type_of_material': u'News', u'blog': [], u'news_desk': u'Culture', u'lead_paragraph': u'The president invited in artists and sought others out, from novelists to rappers to musicians to actors.', u'headline': {u'main': u'Obama Understood the Power of Art. And He Wanted You to Get It, Too.', u'print_headline': u'The Cultural Commander'}, u'abstract': None, u'print_page': u'1', u'word_count': u'1961', u'_id': u'587ff47195d0e0392607b7b0', u'snippet': u'The president invited in artists and sought others out, from novelists to rappers to musicians to actors....', u'source': u'The New York Times', u'slideshow_credits': None, u'web_url': u'http://www.nytimes.com/2017/01/18/arts/president-obama-pop-culture.html', u'multimedia': [{u'subtype': u'wide', u'url': u'images/2017/01/19/arts/19OBAMA-WESLEYJP3/19OBAMA-WESLEYJP3-thumbWide.jpg', u'height': 126, u'width': 190, u'legacy': {u'wide': u'images/2017/01/19/arts/19OBAMA-WESLEYJP3/19OBAMA-WESLEYJP3-thumbWide.jpg', u'wideheight': u'126', u'widewidth': u'190'}, u'type': u'image'}, {u'subtype': u'xlarge', u'url': u'images/2017/01/19/arts/19OBAMA-WESLEYJP3/19OBAMA-WESLEYJP3-articleLarge.jpg', u'height': 400, u'width': 600, u'legacy': {u'xlargewidth': u'600', u'xlarge': u'images/2017/01/19/arts/19OBAMA-WESLEYJP3/19OBAMA-WESLEYJP3-articleLarge.jpg', u'xlargeheight': u'400'}, u'type': u'image'}, {u'subtype': u'thumbnail', u'url': u'images/2017/01/19/arts/19OBAMA-WESLEYJP3/19OBAMA-WESLEYJP3-thumbStandard.jpg', u'height': 75, u'width': 75, u'legacy': {u'thumbnailheight': u'75', u'thumbnail': u'images/2017/01/19/arts/19OBAMA-WESLEYJP3/19OBAMA-WESLEYJP3-thumbStandard.jpg', u'thumbnailwidth': u'75'}, u'type': u'image'}], u'subsection_name': None, u'keywords': [{u'value': u'Culture (Arts)', u'is_major': u'N', u'rank': u'1', u'name': u'subject'}, {u'value': u'Obama, Barack', u'is_major': u'N', u'rank': u'2', u'name': u'persons'}, {u'value': u'Obama, Michelle', u'is_major': u'N', u'rank': u'3', u'name': u'persons'}, {u'value': u'Presidents and Presidency (US)', u'is_major': u'N', u'rank': u'4', u'name': u'subject'}], u'byline': {u'person': [{u'organization': u'', u'role': u'reported', u'rank': 1, u'firstname': u'Wesley', u'lastname': u'MORRIS'}], u'original': u'By WESLEY MORRIS'}, u'document_type': u'article', u'pub_date': u'2017-01-18T23:04:07+0000', u'section_name': u'Arts'}, {u'type_of_material': u'Op-Ed', u'blog': [], u'news_desk': u'OpEd', u'lead_paragraph': u'The people who stand to lose most are Trump supporters.', u'headline': {u'main': u'Erasing Obama', u'kicker': u'Op-Ed | Timothy Egan', u'print_headline': u'Erasing President Obama', u'content_kicker': u'Contributing Op-Ed Writer'}, u'abstract': None, u'print_page': u'19', u'word_count': u'849', u'_id': u'586f537795d0e0392607948b', u'snippet': u'The people who stand to lose most are Trump supporters....', u'source': u'The New York Times', u'slideshow_credits': None, u'web_url': u'http://www.nytimes.com/2017/01/06/opinion/erasing-obama.html', u'multimedia': [{u'subtype': u'wide', u'url': u'images/2017/01/06/opinion/06eganWeb/06eganWeb-thumbWide.jpg', u'height': 126, u'width': 190, u'legacy': {u'wide': u'images/2017/01/06/opinion/06eganWeb/06eganWeb-thumbWide.jpg', u'wideheight': u'126', u'widewidth': u'190'}, u'type': u'image'}, {u'subtype': u'xlarge', u'url': u'images/2017/01/06/opinion/06eganWeb/06eganWeb-articleLarge.jpg', u'height': 422, u'width': 600, u'legacy': {u'xlargewidth': u'600', u'xlarge': u'images/2017/01/06/opinion/06eganWeb/06eganWeb-articleLarge.jpg', u'xlargeheight': u'422'}, u'type': u'image'}, {u'subtype': u'thumbnail', u'url': u'images/2017/01/06/opinion/06eganWeb/06eganWeb-thumbStandard.jpg', u'height': 75, u'width': 75, u'legacy': {u'thumbnailheight': u'75', u'thumbnail': u'images/2017/01/06/opinion/06eganWeb/06eganWeb-thumbStandard.jpg', u'thumbnailwidth': u'75'}, u'type': u'image'}], u'subsection_name': None, u'keywords': [{u'value': u'United States Politics and Government', u'is_major': u'N', u'rank': u'1', u'name': u'subject'}, {u'value': u'Presidents and Presidency (US)', u'is_major': u'N', u'rank': u'2', u'name': u'subject'}, {u'value': u'Obama, Barack', u'is_major': u'N', u'rank': u'3', u'name': u'persons'}, {u'value': u'Trump, Donald J', u'is_major': u'N', u'rank': u'4', u'name': u'persons'}], u'byline': {u'person': [{u'organization': u'', u'role': u'reported', u'rank': 1, u'firstname': u'Timothy', u'lastname': u'EGAN'}], u'original': u'By TIMOTHY EGAN'}, u'document_type': u'article', u'pub_date': u'2017-01-06T08:21:02+0000', u'section_name': u'Opinion'}, {u'type_of_material': u'Video', u'blog': [], u'news_desk': u'U.S. / Politics', u'lead_paragraph': u'President Obama addressed a wide range of issues, including Chelsea Manning and the Israeli-Palestinian conflict during his last meeting with the White House press corps.', u'headline': {u'main': u'Obama Meets the Press One Last Time'}, u'abstract': None, u'print_page': None, u'word_count': u'25', u'_id': u'587ff2ce95d0e0392607b7a7', u'snippet': u'President Obama addressed a wide range of issues, including Chelsea Manning and the Israeli-Palestinian conflict during his last meeting with the White House press corps....', u'source': u'Reuters', u'slideshow_credits': None, u'web_url': u'http://www.nytimes.com/video/us/politics/100000004878758/obama-meets-the-press-one-last-time.html', u'multimedia': [{u'subtype': u'wide', u'url': u'images/2017/01/19/us/19obama-top/19obama-transcript-thumbWide.jpg', u'height': 126, u'width': 190, u'legacy': {u'wide': u'images/2017/01/19/us/19obama-top/19obama-transcript-thumbWide.jpg', u'wideheight': u'126', u'widewidth': u'190'}, u'type': u'image'}, {u'subtype': u'xlarge', u'url': u'images/2017/01/19/us/19obama-top/19obama-transcript-articleLarge.jpg', u'height': 400, u'width': 600, u'legacy': {u'xlargewidth': u'600', u'xlarge': u'images/2017/01/19/us/19obama-top/19obama-transcript-articleLarge.jpg', u'xlargeheight': u'400'}, u'type': u'image'}, {u'subtype': u'thumbnail', u'url': u'images/2017/01/19/us/19obama-top/19obama-transcript-thumbStandard.jpg', u'height': 75, u'width': 75, u'legacy': {u'thumbnailheight': u'75', u'thumbnail': u'images/2017/01/19/us/19obama-top/19obama-transcript-thumbStandard.jpg', u'thumbnailwidth': u'75'}, u'type': u'image'}], u'subsection_name': u'Politics', u'keywords': [{u'value': u'Obama, Barack', u'is_major': u'N', u'rank': u'1', u'name': u'persons'}], u'byline': {u'person': [], u'original': u'By REUTERS', u'organization': u'REUTERS'}, u'document_type': u'multimedia', u'pub_date': u'2017-01-18T22:56:46+0000', u'section_name': u'U.S.'}, {u'type_of_material': u'News', u'blog': [], u'news_desk': u'Sports', u'lead_paragraph': u'Mr. Obama celebrated a team that produced one of the more extraordinary sports moments in his time in office, a World Series triumph that ended a 108-year title drought.', u'headline': {u'main': u'President Obama, a White Sox Fan, Welcomes the Cubs to the White House', u'print_headline': u'White Sox Fan Is Happy to Welcome the Cubs to the White House'}, u'abstract': None, u'print_page': u'14', u'word_count': u'873', u'_id': u'587d7b9195d0e0392607b077', u'snippet': u'Mr. Obama celebrated a team that produced one of the more extraordinary sports moments in his time in office, a World Series triumph that ended a 108-year title drought....', u'source': u'The New York Times', u'slideshow_credits': None, u'web_url': u'http://www.nytimes.com/2017/01/16/sports/baseball/president-obama-a-white-sox-fan-welcomes-the-cubs-to-the-white-house.html', u'multimedia': [{u'subtype': u'wide', u'url': u'images/2017/01/17/us/17CUBS/17CUBS-thumbWide.jpg', u'height': 126, u'width': 190, u'legacy': {u'wide': u'images/2017/01/17/us/17CUBS/17CUBS-thumbWide.jpg', u'wideheight': u'126', u'widewidth': u'190'}, u'type': u'image'}, {u'subtype': u'xlarge', u'url': u'images/2017/01/17/us/17CUBS/17CUBS-articleLarge.jpg', u'height': 400, u'width': 600, u'legacy': {u'xlargewidth': u'600', u'xlarge': u'images/2017/01/17/us/17CUBS/17CUBS-articleLarge.jpg', u'xlargeheight': u'400'}, u'type': u'image'}, {u'subtype': u'thumbnail', u'url': u'images/2017/01/17/us/17CUBS/17CUBS-thumbStandard.jpg', u'height': 75, u'width': 75, u'legacy': {u'thumbnailheight': u'75', u'thumbnail': u'images/2017/01/17/us/17CUBS/17CUBS-thumbStandard.jpg', u'thumbnailwidth': u'75'}, u'type': u'image'}], u'subsection_name': u'Baseball', u'keywords': [{u'value': u'Baseball', u'is_major': u'N', u'rank': u'1', u'name': u'subject'}, {u'value': u'United States Politics and Government', u'is_major': u'N', u'rank': u'2', u'name': u'subject'}, {u'value': u'Chicago Cubs', u'is_major': u'N', u'rank': u'3', u'name': u'organizations'}, {u'value': u'Obama, Barack', u'is_major': u'N', u'rank': u'4', u'name': u'persons'}, {u'value': u'White House Building (Washington, DC)', u'is_major': u'N', u'rank': u'5', u'name': u'subject'}], u'byline': {u'person': [{u'organization': u'', u'role': u'reported', u'rank': 1, u'firstname': u'Noah', u'lastname': u'WEILAND'}], u'original': u'By NOAH WEILAND'}, u'document_type': u'article', u'pub_date': u'2017-01-17T02:03:53+0000', u'section_name': u'Sports'}, {u'type_of_material': u'News', u'blog': [], u'news_desk': u'Magazine', u'lead_paragraph': u'Over eight years, through millions of letters, the staff of the White House mailroom read the unfiltered story of a nation.', u'headline': {u'main': u'To Obama With Love, and Hate, and Desperation', u'kicker': u'Feature', u'print_headline': u'The Mail Room', u'content_kicker': u'Feature'}, u'abstract': None, u'print_page': u'30', u'word_count': u'8784', u'_id': u'587deb3195d0e0392607b151', u'snippet': u'Over eight years, through millions of letters, the staff of the White House mailroom read the unfiltered story of a nation....', u'source': u'The New York Times', u'slideshow_credits': None, u'web_url': u'http://www.nytimes.com/2017/01/17/magazine/what-americans-wrote-to-obama.html', u'multimedia': [{u'subtype': u'wide', u'url': u'images/2017/01/22/magazine/22letters1/22letters1-thumbWide.jpg', u'height': 126, u'width': 190, u'legacy': {u'wide': u'images/2017/01/22/magazine/22letters1/22letters1-thumbWide.jpg', u'wideheight': u'126', u'widewidth': u'190'}, u'type': u'image'}, {u'subtype': u'xlarge', u'url': u'images/2017/01/22/magazine/22letters1/22letters1-articleLarge.jpg', u'height': 900, u'width': 600, u'legacy': {u'xlargewidth': u'600', u'xlarge': u'images/2017/01/22/magazine/22letters1/22letters1-articleLarge.jpg', u'xlargeheight': u'900'}, u'type': u'image'}, {u'subtype': u'thumbnail', u'url': u'images/2017/01/22/magazine/22letters1/22letters1-thumbStandard.jpg', u'height': 75, u'width': 75, u'legacy': {u'thumbnailheight': u'75', u'thumbnail': u'images/2017/01/22/magazine/22letters1/22letters1-thumbStandard.jpg', u'thumbnailwidth': u'75'}, u'type': u'image'}], u'subsection_name': None, u'keywords': [{u'value': u'Letters', u'is_major': u'N', u'rank': u'1', u'name': u'subject'}, {u'value': u'Obama, Barack', u'is_major': u'N', u'rank': u'3', u'name': u'persons'}, {u'value': u'United States Politics and Government', u'is_major': u'N', u'rank': u'4', u'name': u'subject'}, {u'value': u'Presidents and Presidency (US)', u'is_major': u'N', u'rank': u'5', u'name': u'subject'}, {u'value': u'Veterans', u'is_major': u'N', u'rank': u'6', u'name': u'subject'}], u'byline': {u'person': [{u'firstname': u'Jeanne', u'middlename': u'Marie', u'lastname': u'LASKAS', u'rank': 1, u'role': u'reported', u'organization': u''}], u'original': u'By JEANNE MARIE LASKAS'}, u'document_type': u'article', u'pub_date': u'2017-01-17T10:00:04+0000', u'section_name': u'Magazine'}, {u'type_of_material': u'Editorial', u'blog': [], u'news_desk': u'Editorial', u'lead_paragraph': u'The president\\u2019s terrible record on clemency has gotten better, but pardon grants remain abysmally low.', u'headline': {u'main': u'Mr. Obama, Pick Up Your Pardon Pen', u'kicker': u'Editorial', u'print_headline': u'Mr. Obama, Pick Up Your Pardon Pen', u'content_kicker': u'Editorial'}, u'abstract': None, u'print_page': u'20', u'word_count': u'647', u'_id': u'587d6f3495d0e0392607b066', u'snippet': u'The president\\u2019s terrible record on clemency has gotten better, but pardon grants remain abysmally low....', u'source': u'The New York Times', u'slideshow_credits': None, u'web_url': u'http://www.nytimes.com/2017/01/16/opinion/mr-obama-pick-up-your-pardon-pen.html', u'multimedia': [{u'subtype': u'wide', u'url': u'images/2017/01/17/opinion/17TUES1/17TUES1-thumbWide.jpg', u'height': 126, u'width': 190, u'legacy': {u'wide': u'images/2017/01/17/opinion/17TUES1/17TUES1-thumbWide.jpg', u'wideheight': u'126', u'widewidth': u'190'}, u'type': u'image'}, {u'subtype': u'xlarge', u'url': u'images/2017/01/17/opinion/17TUES1/17TUES1-articleLarge.jpg', u'height': 400, u'width': 600, u'legacy': {u'xlargewidth': u'600', u'xlarge': u'images/2017/01/17/opinion/17TUES1/17TUES1-articleLarge.jpg', u'xlargeheight': u'400'}, u'type': u'image'}, {u'subtype': u'thumbnail', u'url': u'images/2017/01/17/opinion/17TUES1/17TUES1-thumbStandard.jpg', u'height': 75, u'width': 75, u'legacy': {u'thumbnailheight': u'75', u'thumbnail': u'images/2017/01/17/opinion/17TUES1/17TUES1-thumbStandard.jpg', u'thumbnailwidth': u'75'}, u'type': u'image'}], u'subsection_name': None, u'keywords': [{u'value': u'Amnesties, Commutations and Pardons', u'is_major': u'N', u'rank': u'1', u'name': u'subject'}, {u'value': u'Obama, Barack', u'is_major': u'N', u'rank': u'2', u'name': u'persons'}, {u'value': u'United States Politics and Government', u'is_major': u'N', u'rank': u'3', u'name': u'subject'}], u'byline': {u'person': [], u'original': u'By THE EDITORIAL BOARD', u'organization': u'THE EDITORIAL BOARD'}, u'document_type': u'article', u'pub_date': u'2017-01-17T01:11:09+0000', u'section_name': u'Opinion'}, {u'type_of_material': u'News', u'blog': [], u'news_desk': u'Styles', u'lead_paragraph': u'No one understood the role of fashion, and the potential uses of its power, better than the first lady.', u'headline': {u'main': u'What Michelle Obama Wore and Why It Mattered', u'kicker': u\"Critic's Notebook\", u'print_headline': u'How Clothes Defined Her', u'content_kicker': u\"Critic's Notebook\"}, u'abstract': None, u'print_page': u'1', u'word_count': u'2089', u'_id': u'587a04c095d0e0392607ab73', u'snippet': u'No one understood the role of fashion, and the potential uses of its power, better than the first lady....', u'source': u'The New York Times', u'slideshow_credits': None, u'web_url': u'http://www.nytimes.com/2017/01/14/fashion/michelle-obama-first-lady-fashion.html', u'multimedia': [{u'subtype': u'wide', u'url': u'images/2017/01/15/fashion/15MICHELLE-SS-slide-8MDL/15MICHELLE-SS-slide-8MDL-thumbWide.jpg', u'height': 126, u'width': 190, u'legacy': {u'wide': u'images/2017/01/15/fashion/15MICHELLE-SS-slide-8MDL/15MICHELLE-SS-slide-8MDL-thumbWide.jpg', u'wideheight': u'126', u'widewidth': u'190'}, u'type': u'image'}, {u'subtype': u'xlarge', u'url': u'images/2017/01/15/fashion/15MICHELLE-SS-slide-8MDL/15MICHELLE-SS-slide-8MDL-articleLarge.jpg', u'height': 1262, u'width': 600, u'legacy': {u'xlargewidth': u'600', u'xlarge': u'images/2017/01/15/fashion/15MICHELLE-SS-slide-8MDL/15MICHELLE-SS-slide-8MDL-articleLarge.jpg', u'xlargeheight': u'1262'}, u'type': u'image'}, {u'subtype': u'thumbnail', u'url': u'images/2017/01/15/fashion/15MICHELLE-SS-slide-8MDL/15MICHELLE-SS-slide-8MDL-thumbStandard.jpg', u'height': 75, u'width': 75, u'legacy': {u'thumbnailheight': u'75', u'thumbnail': u'images/2017/01/15/fashion/15MICHELLE-SS-slide-8MDL/15MICHELLE-SS-slide-8MDL-thumbStandard.jpg', u'thumbnailwidth': u'75'}, u'type': u'image'}], u'subsection_name': None, u'keywords': [{u'value': u'Obama, Michelle', u'is_major': u'N', u'rank': u'1', u'name': u'persons'}, {u'value': u'Fashion and Apparel', u'is_major': u'N', u'rank': u'2', u'name': u'subject'}, {u'value': u'United States Politics and Government', u'is_major': u'N', u'rank': u'3', u'name': u'subject'}], u'byline': {u'contributor': u'', u'person': [{u'organization': u'', u'role': u'reported', u'rank': 1, u'firstname': u'Vanessa', u'lastname': u'FRIEDMAN'}], u'original': u'By VANESSA FRIEDMAN'}, u'document_type': u'article', u'pub_date': u'2017-01-14T11:00:05+0000', u'section_name': u'Fashion & Style'}, {u'type_of_material': u'News', u'blog': [], u'news_desk': u'National', u'lead_paragraph': u'At his final news conference in the White House, the president was asked about his future and his decision to commute the sentence of Chelsea Manning.', u'headline': {u'main': u'Obama Vows to Speak Out on \\u2018Core Values\\u2019 After Office'}, u'abstract': None, u'print_page': None, u'word_count': u'909', u'_id': u'587fa2fe95d0e0392607b666', u'snippet': u'At his final news conference in the White House, the president was asked about his future and his decision to commute the sentence of Chelsea Manning....', u'source': u'The New York Times', u'slideshow_credits': None, u'web_url': u'http://www.nytimes.com/2017/01/18/us/politics/obama-last-news-conference-as-president.html', u'multimedia': [], u'subsection_name': u'Politics', u'keywords': [{u'value': u'Obama, Barack', u'is_major': u'N', u'rank': u'1', u'name': u'persons'}, {u'value': u'News and News Media', u'is_major': u'N', u'rank': u'2', u'name': u'subject'}, {u'value': u'White House Building (Washington, DC)', u'is_major': u'N', u'rank': u'3', u'name': u'subject'}, {u'value': u'United States Politics and Government', u'is_major': u'N', u'rank': u'4', u'name': u'subject'}], u'byline': {u'person': [{u'organization': u'', u'role': u'reported', u'rank': 1, u'firstname': u'Michael'}], u'original': u'By MICHAEL D. SHEAR and PETER BAKER'}, u'document_type': u'article', u'pub_date': u'2017-01-18T17:16:43+0000', u'section_name': u'U.S.'}, {u'type_of_material': u'Op-Ed', u'blog': [], u'news_desk': u'OpEd', u'lead_paragraph': u'A party that controls the White House for two terms typically loses political power elsewhere.', u'headline': {u'main': u'Obama-Era Political Losses, the Real Story', u'kicker': u'Op-Ed Columnist', u'content_kicker': u'Op-Ed Columnist'}, u'abstract': None, u'print_page': None, u'word_count': u'372', u'_id': u'587cc6f995d0e0392607af2d', u'snippet': u'A party that controls the White House for two terms typically loses political power elsewhere....', u'source': u'The New York Times', u'slideshow_credits': None, u'web_url': u'http://www.nytimes.com/2017/01/16/opinion/a-new-take-on-democrats-obama-era-losses.html', u'multimedia': [], u'subsection_name': None, u'keywords': [{u'value': u'Presidential Election of 2016', u'is_major': u'N', u'rank': u'1', u'name': u'subject'}, {u'value': u'Democratic Party', u'is_major': u'N', u'rank': u'2', u'name': u'organizations'}, {u'value': u'Obama, Barack', u'is_major': u'N', u'rank': u'3', u'name': u'persons'}], u'byline': {u'person': [{u'organization': u'', u'role': u'reported', u'rank': 1, u'firstname': u'David', u'lastname': u'LEONHARDT'}], u'original': u'By DAVID LEONHARDT'}, u'document_type': u'article', u'pub_date': u'2017-01-16T13:13:23+0000', u'section_name': u'Opinion'}, {u'type_of_material': u'News', u'blog': [], u'news_desk': u'National', u'lead_paragraph': u'The president\\u2019s confidence was etched with frustration over economic inequity, racism and closed-mindedness that he said imperiled the nation\\u2019s democratic fabric.', u'headline': {u'main': u'Obama, Saying Goodbye, Warns of Threats to National Unity', u'print_headline': u'Obama\\u2019s Farewell to the Nation: \\u2018Yes, We Did\\u2019'}, u'abstract': None, u'print_page': u'1', u'word_count': u'1265', u'_id': u'5875c5d195d0e0392607a0bc', u'snippet': u'The president\\u2019s confidence was etched with frustration over economic inequity, racism and closed-mindedness that he said imperiled the nation\\u2019s democratic fabric....', u'source': u'The New York Times', u'slideshow_credits': None, u'web_url': u'http://www.nytimes.com/2017/01/11/us/obama-farewell-address-president.html', u'multimedia': [{u'subtype': u'wide', u'url': u'images/2017/01/11/us/politics/11altOBAMA/11altOBAMA-thumbWide.jpg', u'height': 126, u'width': 190, u'legacy': {u'wide': u'images/2017/01/11/us/politics/11altOBAMA/11altOBAMA-thumbWide.jpg', u'wideheight': u'126', u'widewidth': u'190'}, u'type': u'image'}, {u'subtype': u'xlarge', u'url': u'images/2017/01/11/us/politics/11altOBAMA/11altOBAMA-articleLarge.jpg', u'height': 392, u'width': 600, u'legacy': {u'xlargewidth': u'600', u'xlarge': u'images/2017/01/11/us/politics/11altOBAMA/11altOBAMA-articleLarge.jpg', u'xlargeheight': u'392'}, u'type': u'image'}, {u'subtype': u'thumbnail', u'url': u'images/2017/01/11/us/politics/11altOBAMA/11altOBAMA-thumbStandard.jpg', u'height': 75, u'width': 75, u'legacy': {u'thumbnailheight': u'75', u'thumbnail': u'images/2017/01/11/us/politics/11altOBAMA/11altOBAMA-thumbStandard.jpg', u'thumbnailwidth': u'75'}, u'type': u'image'}], u'subsection_name': None, u'keywords': [{u'value': u'United States Politics and Government', u'is_major': u'N', u'rank': u'1', u'name': u'subject'}, {u'value': u'Obama, Barack', u'is_major': u'N', u'rank': u'2', u'name': u'persons'}, {u'value': u'Chicago (Ill)', u'is_major': u'N', u'rank': u'3', u'name': u'glocations'}], u'byline': {u'person': [{u'organization': u'', u'role': u'reported', u'rank': 1, u'firstname': u'Mark', u'lastname': u'LANDLER'}, {u'organization': u'', u'role': u'reported', u'rank': 2, u'firstname': u'Julie', u'lastname': u'BOSMAN'}], u'original': u'By MARK LANDLER and JULIE BOSMAN'}, u'document_type': u'article', u'pub_date': u'2017-01-11T05:42:34+0000', u'section_name': u'U.S.'}], u'facets': {u'source': {u'terms': [{u'count': 5158, u'term': u'The New York Times'}, {u'count': 4760, u'term': u'Reuters'}, {u'count': 4261, u'term': u'AP'}]}, u'day_of_week': {u'terms': [{u'count': 2566, u'term': u'Tuesday'}, {u'count': 2508, u'term': u'Friday'}, {u'count': 2497, u'term': u'Wednesday'}, {u'count': 2458, u'term': u'Thursday'}, {u'count': 1947, u'term': u'Monday'}]}}, u'meta': {u'hits': 14179, u'offset': 0, u'time': 30}}, u'copyright': u'Copyright (c) 2013 The New York Times Company.  All Rights Reserved.'}\n"
     ]
    }
   ],
   "source": [
    "print articles"
   ]
  },
  {
   "cell_type": "markdown",
   "metadata": {},
   "source": [
    "result you get"
   ]
  },
  {
   "cell_type": "code",
   "execution_count": 187,
   "metadata": {
    "collapsed": false
   },
   "outputs": [
    {
     "data": {
      "text/plain": [
       "'{\\n  \"status\": \"OK\", \\n  \"response\": {\\n    \"docs\": [\\n      {\\n        \"type_of_material\": \"News\", \\n        \"blog\": [], \\n        \"news_desk\": \"Culture\", \\n        \"lead_paragraph\": \"The president invited in artists and sought others out, from novelists to rappers to musicians to actors.\", \\n        \"headline\": {\\n          \"main\": \"Obama Understood the Power of Art. And He Wanted You to Get It, Too.\", \\n          \"print_headline\": \"The Cultural Commander\"\\n        }, \\n        \"abstract\": null, \\n        \"print_page\": \"1\", \\n        \"word_count\": \"1961\", \\n        \"_id\": \"587ff47195d0e0392607b7b0\", \\n        \"snippet\": \"The president invited in artists and sought others out, from novelists to rappers to musicians to actors....\", \\n        \"source\": \"The New York Times\", \\n        \"slideshow_credits\": null, \\n        \"web_url\": \"http://www.nytimes.com/2017/01/18/arts/president-obama-pop-culture.html\", \\n        \"multimedia\": [\\n          {\\n            \"subtype\": \"wide\", \\n            \"url\": \"images/2017/01/19/arts/19OBAMA-WESLEYJP3/19OBAMA-WESLEYJP3-thumbWide.jpg\", \\n            \"height\": 126, \\n            \"width\": 190, \\n            \"legacy\": {\\n              \"wide\": \"images/2017/01/19/arts/19OBAMA-WESLEYJP3/19OBAMA-WESLEYJP3-thumbWide.jpg\", \\n              \"wideheight\": \"126\", \\n              \"widewidth\": \"190\"\\n            }, \\n            \"type\": \"image\"\\n          }, \\n          {\\n            \"subtype\": \"xlarge\", \\n            \"url\": \"images/2017/01/19/arts/19OBAMA-WESLEYJP3/19OBAMA-WESLEYJP3-articleLarge.jpg\", \\n            \"height\": 400, \\n            \"width\": 600, \\n            \"legacy\": {\\n              \"xlargewidth\": \"600\", \\n              \"xlarge\": \"images/2017/01/19/arts/19OBAMA-WESLEYJP3/19OBAMA-WESLEYJP3-articleLarge.jpg\", \\n              \"xlargeheight\": \"400\"\\n            }, \\n            \"type\": \"image\"\\n          }, \\n          {\\n            \"subtype\": \"thumbnail\", \\n            \"url\": \"images/2017/01/19/arts/19OBAMA-WESLEYJP3/19OBAMA-WESLEYJP3-thumbStandard.jpg\", \\n            \"height\": 75, \\n            \"width\": 75, \\n            \"legacy\": {\\n              \"thumbnailheight\": \"75\", \\n              \"thumbnail\": \"images/2017/01/19/arts/19OBAMA-WESLEYJP3/19OBAMA-WESLEYJP3-thumbStandard.jpg\", \\n              \"thumbnailwidth\": \"75\"\\n            }, \\n            \"type\": \"image\"\\n          }\\n        ], \\n        \"subsection_name\": null, \\n        \"keywords\": [\\n          {\\n            \"value\": \"Culture (Arts)\", \\n            \"is_major\": \"N\", \\n            \"rank\": \"1\", \\n            \"name\": \"subject\"\\n          }, \\n          {\\n            \"value\": \"Obama, Barack\", \\n            \"is_major\": \"N\", \\n            \"rank\": \"2\", \\n            \"name\": \"persons\"\\n          }, \\n          {\\n            \"value\": \"Obama, Michelle\", \\n            \"is_major\": \"N\", \\n            \"rank\": \"3\", \\n            \"name\": \"persons\"\\n          }, \\n          {\\n            \"value\": \"Presidents and Presidency (US)\", \\n            \"is_major\": \"N\", \\n            \"rank\": \"4\", \\n            \"name\": \"subject\"\\n          }\\n        ], \\n        \"byline\": {\\n          \"person\": [\\n            {\\n              \"organization\": \"\", \\n              \"role\": \"reported\", \\n              \"rank\": 1, \\n              \"firstname\": \"Wesley\", \\n              \"lastname\": \"MORRIS\"\\n            }\\n          ], \\n          \"original\": \"By WESLEY MORRIS\"\\n        }, \\n        \"document_type\": \"article\", \\n        \"pub_date\": \"2017-01-18T23:04:07+0000\", \\n        \"section_name\": \"Arts\"\\n      }, \\n      {\\n        \"type_of_material\": \"Op-Ed\", \\n        \"blog\": [], \\n        \"news_desk\": \"OpEd\", \\n        \"lead_paragraph\": \"The people who stand to lose most are Trump supporters.\", \\n        \"headline\": {\\n          \"main\": \"Erasing Obama\", \\n          \"kicker\": \"Op-Ed | Timothy Egan\", \\n          \"print_headline\": \"Erasing President Obama\", \\n          \"content_kicker\": \"Contributing Op-Ed Writer\"\\n        }, \\n        \"abstract\": null, \\n        \"print_page\": \"19\", \\n        \"word_count\": \"849\", \\n        \"_id\": \"586f537795d0e0392607948b\", \\n        \"snippet\": \"The people who stand to lose most are Trump supporters....\", \\n        \"source\": \"The New York Times\", \\n        \"slideshow_credits\": null, \\n        \"web_url\": \"http://www.nytimes.com/2017/01/06/opinion/erasing-obama.html\", \\n        \"multimedia\": [\\n          {\\n            \"subtype\": \"wide\", \\n            \"url\": \"images/2017/01/06/opinion/06eganWeb/06eganWeb-thumbWide.jpg\", \\n            \"height\": 126, \\n            \"width\": 190, \\n            \"legacy\": {\\n              \"wide\": \"images/2017/01/06/opinion/06eganWeb/06eganWeb-thumbWide.jpg\", \\n              \"wideheight\": \"126\", \\n              \"widewidth\": \"190\"\\n            }, \\n            \"type\": \"image\"\\n          }, \\n          {\\n            \"subtype\": \"xlarge\", \\n            \"url\": \"images/2017/01/06/opinion/06eganWeb/06eganWeb-articleLarge.jpg\", \\n            \"height\": 422, \\n            \"width\": 600, \\n            \"legacy\": {\\n              \"xlargewidth\": \"600\", \\n              \"xlarge\": \"images/2017/01/06/opinion/06eganWeb/06eganWeb-articleLarge.jpg\", \\n              \"xlargeheight\": \"422\"\\n            }, \\n            \"type\": \"image\"\\n          }, \\n          {\\n            \"subtype\": \"thumbnail\", \\n            \"url\": \"images/2017/01/06/opinion/06eganWeb/06eganWeb-thumbStandard.jpg\", \\n            \"height\": 75, \\n            \"width\": 75, \\n            \"legacy\": {\\n              \"thumbnailheight\": \"75\", \\n              \"thumbnail\": \"images/2017/01/06/opinion/06eganWeb/06eganWeb-thumbStandard.jpg\", \\n              \"thumbnailwidth\": \"75\"\\n            }, \\n            \"type\": \"image\"\\n          }\\n        ], \\n        \"subsection_name\": null, \\n        \"keywords\": [\\n          {\\n            \"value\": \"United States Politics and Government\", \\n            \"is_major\": \"N\", \\n            \"rank\": \"1\", \\n            \"name\": \"subject\"\\n          }, \\n          {\\n            \"value\": \"Presidents and Presidency (US)\", \\n            \"is_major\": \"N\", \\n            \"rank\": \"2\", \\n            \"name\": \"subject\"\\n          }, \\n          {\\n            \"value\": \"Obama, Barack\", \\n            \"is_major\": \"N\", \\n            \"rank\": \"3\", \\n            \"name\": \"persons\"\\n          }, \\n          {\\n            \"value\": \"Trump, Donald J\", \\n            \"is_major\": \"N\", \\n            \"rank\": \"4\", \\n            \"name\": \"persons\"\\n          }\\n        ], \\n        \"byline\": {\\n          \"person\": [\\n            {\\n              \"organization\": \"\", \\n              \"role\": \"reported\", \\n              \"rank\": 1, \\n              \"firstname\": \"Timothy\", \\n              \"lastname\": \"EGAN\"\\n            }\\n          ], \\n          \"original\": \"By TIMOTHY EGAN\"\\n        }, \\n        \"document_type\": \"article\", \\n        \"pub_date\": \"2017-01-06T08:21:02+0000\", \\n        \"section_name\": \"Opinion\"\\n      }, \\n      {\\n        \"type_of_material\": \"Video\", \\n        \"blog\": [], \\n        \"news_desk\": \"U.S. / Politics\", \\n        \"lead_paragraph\": \"President Obama addressed a wide range of issues, including Chelsea Manning and the Israeli-Palestinian conflict during his last meeting with the White House press corps.\", \\n        \"headline\": {\\n          \"main\": \"Obama Meets the Press One Last Time\"\\n        }, \\n        \"abstract\": null, \\n        \"print_page\": null, \\n        \"word_count\": \"25\", \\n        \"_id\": \"587ff2ce95d0e0392607b7a7\", \\n        \"snippet\": \"President Obama addressed a wide range of issues, including Chelsea Manning and the Israeli-Palestinian conflict during his last meeting with the White House press corps....\", \\n        \"source\": \"Reuters\", \\n        \"slideshow_credits\": null, \\n        \"web_url\": \"http://www.nytimes.com/video/us/politics/100000004878758/obama-meets-the-press-one-last-time.html\", \\n        \"multimedia\": [\\n          {\\n            \"subtype\": \"wide\", \\n            \"url\": \"images/2017/01/19/us/19obama-top/19obama-transcript-thumbWide.jpg\", \\n            \"height\": 126, \\n            \"width\": 190, \\n            \"legacy\": {\\n              \"wide\": \"images/2017/01/19/us/19obama-top/19obama-transcript-thumbWide.jpg\", \\n              \"wideheight\": \"126\", \\n              \"widewidth\": \"190\"\\n            }, \\n            \"type\": \"image\"\\n          }, \\n          {\\n            \"subtype\": \"xlarge\", \\n            \"url\": \"images/2017/01/19/us/19obama-top/19obama-transcript-articleLarge.jpg\", \\n            \"height\": 400, \\n            \"width\": 600, \\n            \"legacy\": {\\n              \"xlargewidth\": \"600\", \\n              \"xlarge\": \"images/2017/01/19/us/19obama-top/19obama-transcript-articleLarge.jpg\", \\n              \"xlargeheight\": \"400\"\\n            }, \\n            \"type\": \"image\"\\n          }, \\n          {\\n            \"subtype\": \"thumbnail\", \\n            \"url\": \"images/2017/01/19/us/19obama-top/19obama-transcript-thumbStandard.jpg\", \\n            \"height\": 75, \\n            \"width\": 75, \\n            \"legacy\": {\\n              \"thumbnailheight\": \"75\", \\n              \"thumbnail\": \"images/2017/01/19/us/19obama-top/19obama-transcript-thumbStandard.jpg\", \\n              \"thumbnailwidth\": \"75\"\\n            }, \\n            \"type\": \"image\"\\n          }\\n        ], \\n        \"subsection_name\": \"Politics\", \\n        \"keywords\": [\\n          {\\n            \"value\": \"Obama, Barack\", \\n            \"is_major\": \"N\", \\n            \"rank\": \"1\", \\n            \"name\": \"persons\"\\n          }\\n        ], \\n        \"byline\": {\\n          \"person\": [], \\n          \"original\": \"By REUTERS\", \\n          \"organization\": \"REUTERS\"\\n        }, \\n        \"document_type\": \"multimedia\", \\n        \"pub_date\": \"2017-01-18T22:56:46+0000\", \\n        \"section_name\": \"U.S.\"\\n      }, \\n      {\\n        \"type_of_material\": \"News\", \\n        \"blog\": [], \\n        \"news_desk\": \"Sports\", \\n        \"lead_paragraph\": \"Mr. Obama celebrated a team that produced one of the more extraordinary sports moments in his time in office, a World Series triumph that ended a 108-year title drought.\", \\n        \"headline\": {\\n          \"main\": \"President Obama, a White Sox Fan, Welcomes the Cubs to the White House\", \\n          \"print_headline\": \"White Sox Fan Is Happy to Welcome the Cubs to the White House\"\\n        }, \\n        \"abstract\": null, \\n        \"print_page\": \"14\", \\n        \"word_count\": \"873\", \\n        \"_id\": \"587d7b9195d0e0392607b077\", \\n        \"snippet\": \"Mr. Obama celebrated a team that produced one of the more extraordinary sports moments in his time in office, a World Series triumph that ended a 108-year title drought....\", \\n        \"source\": \"The New York Times\", \\n        \"slideshow_credits\": null, \\n        \"web_url\": \"http://www.nytimes.com/2017/01/16/sports/baseball/president-obama-a-white-sox-fan-welcomes-the-cubs-to-the-white-house.html\", \\n        \"multimedia\": [\\n          {\\n            \"subtype\": \"wide\", \\n            \"url\": \"images/2017/01/17/us/17CUBS/17CUBS-thumbWide.jpg\", \\n            \"height\": 126, \\n            \"width\": 190, \\n            \"legacy\": {\\n              \"wide\": \"images/2017/01/17/us/17CUBS/17CUBS-thumbWide.jpg\", \\n              \"wideheight\": \"126\", \\n              \"widewidth\": \"190\"\\n            }, \\n            \"type\": \"image\"\\n          }, \\n          {\\n            \"subtype\": \"xlarge\", \\n            \"url\": \"images/2017/01/17/us/17CUBS/17CUBS-articleLarge.jpg\", \\n            \"height\": 400, \\n            \"width\": 600, \\n            \"legacy\": {\\n              \"xlargewidth\": \"600\", \\n              \"xlarge\": \"images/2017/01/17/us/17CUBS/17CUBS-articleLarge.jpg\", \\n              \"xlargeheight\": \"400\"\\n            }, \\n            \"type\": \"image\"\\n          }, \\n          {\\n            \"subtype\": \"thumbnail\", \\n            \"url\": \"images/2017/01/17/us/17CUBS/17CUBS-thumbStandard.jpg\", \\n            \"height\": 75, \\n            \"width\": 75, \\n            \"legacy\": {\\n              \"thumbnailheight\": \"75\", \\n              \"thumbnail\": \"images/2017/01/17/us/17CUBS/17CUBS-thumbStandard.jpg\", \\n              \"thumbnailwidth\": \"75\"\\n            }, \\n            \"type\": \"image\"\\n          }\\n        ], \\n        \"subsection_name\": \"Baseball\", \\n        \"keywords\": [\\n          {\\n            \"value\": \"Baseball\", \\n            \"is_major\": \"N\", \\n            \"rank\": \"1\", \\n            \"name\": \"subject\"\\n          }, \\n          {\\n            \"value\": \"United States Politics and Government\", \\n            \"is_major\": \"N\", \\n            \"rank\": \"2\", \\n            \"name\": \"subject\"\\n          }, \\n          {\\n            \"value\": \"Chicago Cubs\", \\n            \"is_major\": \"N\", \\n            \"rank\": \"3\", \\n            \"name\": \"organizations\"\\n          }, \\n          {\\n            \"value\": \"Obama, Barack\", \\n            \"is_major\": \"N\", \\n            \"rank\": \"4\", \\n            \"name\": \"persons\"\\n          }, \\n          {\\n            \"value\": \"White House Building (Washington, DC)\", \\n            \"is_major\": \"N\", \\n            \"rank\": \"5\", \\n            \"name\": \"subject\"\\n          }\\n        ], \\n        \"byline\": {\\n          \"person\": [\\n            {\\n              \"organization\": \"\", \\n              \"role\": \"reported\", \\n              \"rank\": 1, \\n              \"firstname\": \"Noah\", \\n              \"lastname\": \"WEILAND\"\\n            }\\n          ], \\n          \"original\": \"By NOAH WEILAND\"\\n        }, \\n        \"document_type\": \"article\", \\n        \"pub_date\": \"2017-01-17T02:03:53+0000\", \\n        \"section_name\": \"Sports\"\\n      }, \\n      {\\n        \"type_of_material\": \"News\", \\n        \"blog\": [], \\n        \"news_desk\": \"Magazine\", \\n        \"lead_paragraph\": \"Over eight years, through millions of letters, the staff of the White House mailroom read the unfiltered story of a nation.\", \\n        \"headline\": {\\n          \"main\": \"To Obama With Love, and Hate, and Desperation\", \\n          \"kicker\": \"Feature\", \\n          \"print_headline\": \"The Mail Room\", \\n          \"content_kicker\": \"Feature\"\\n        }, \\n        \"abstract\": null, \\n        \"print_page\": \"30\", \\n        \"word_count\": \"8784\", \\n        \"_id\": \"587deb3195d0e0392607b151\", \\n        \"snippet\": \"Over eight years, through millions of letters, the staff of the White House mailroom read the unfiltered story of a nation....\", \\n        \"source\": \"The New York Times\", \\n        \"slideshow_credits\": null, \\n        \"web_url\": \"http://www.nytimes.com/2017/01/17/magazine/what-americans-wrote-to-obama.html\", \\n        \"multimedia\": [\\n          {\\n            \"subtype\": \"wide\", \\n            \"url\": \"images/2017/01/22/magazine/22letters1/22letters1-thumbWide.jpg\", \\n            \"height\": 126, \\n            \"width\": 190, \\n            \"legacy\": {\\n              \"wide\": \"images/2017/01/22/magazine/22letters1/22letters1-thumbWide.jpg\", \\n              \"wideheight\": \"126\", \\n              \"widewidth\": \"190\"\\n            }, \\n            \"type\": \"image\"\\n          }, \\n          {\\n            \"subtype\": \"xlarge\", \\n            \"url\": \"images/2017/01/22/magazine/22letters1/22letters1-articleLarge.jpg\", \\n            \"height\": 900, \\n            \"width\": 600, \\n            \"legacy\": {\\n              \"xlargewidth\": \"600\", \\n              \"xlarge\": \"images/2017/01/22/magazine/22letters1/22letters1-articleLarge.jpg\", \\n              \"xlargeheight\": \"900\"\\n            }, \\n            \"type\": \"image\"\\n          }, \\n          {\\n            \"subtype\": \"thumbnail\", \\n            \"url\": \"images/2017/01/22/magazine/22letters1/22letters1-thumbStandard.jpg\", \\n            \"height\": 75, \\n            \"width\": 75, \\n            \"legacy\": {\\n              \"thumbnailheight\": \"75\", \\n              \"thumbnail\": \"images/2017/01/22/magazine/22letters1/22letters1-thumbStandard.jpg\", \\n              \"thumbnailwidth\": \"75\"\\n            }, \\n            \"type\": \"image\"\\n          }\\n        ], \\n        \"subsection_name\": null, \\n        \"keywords\": [\\n          {\\n            \"value\": \"Letters\", \\n            \"is_major\": \"N\", \\n            \"rank\": \"1\", \\n            \"name\": \"subject\"\\n          }, \\n          {\\n            \"value\": \"Obama, Barack\", \\n            \"is_major\": \"N\", \\n            \"rank\": \"3\", \\n            \"name\": \"persons\"\\n          }, \\n          {\\n            \"value\": \"United States Politics and Government\", \\n            \"is_major\": \"N\", \\n            \"rank\": \"4\", \\n            \"name\": \"subject\"\\n          }, \\n          {\\n            \"value\": \"Presidents and Presidency (US)\", \\n            \"is_major\": \"N\", \\n            \"rank\": \"5\", \\n            \"name\": \"subject\"\\n          }, \\n          {\\n            \"value\": \"Veterans\", \\n            \"is_major\": \"N\", \\n            \"rank\": \"6\", \\n            \"name\": \"subject\"\\n          }\\n        ], \\n        \"byline\": {\\n          \"person\": [\\n            {\\n              \"firstname\": \"Jeanne\", \\n              \"middlename\": \"Marie\", \\n              \"lastname\": \"LASKAS\", \\n              \"rank\": 1, \\n              \"role\": \"reported\", \\n              \"organization\": \"\"\\n            }\\n          ], \\n          \"original\": \"By JEANNE MARIE LASKAS\"\\n        }, \\n        \"document_type\": \"article\", \\n        \"pub_date\": \"2017-01-17T10:00:04+0000\", \\n        \"section_name\": \"Magazine\"\\n      }, \\n      {\\n        \"type_of_material\": \"Editorial\", \\n        \"blog\": [], \\n        \"news_desk\": \"Editorial\", \\n        \"lead_paragraph\": \"The president\\\\u2019s terrible record on clemency has gotten better, but pardon grants remain abysmally low.\", \\n        \"headline\": {\\n          \"main\": \"Mr. Obama, Pick Up Your Pardon Pen\", \\n          \"kicker\": \"Editorial\", \\n          \"print_headline\": \"Mr. Obama, Pick Up Your Pardon Pen\", \\n          \"content_kicker\": \"Editorial\"\\n        }, \\n        \"abstract\": null, \\n        \"print_page\": \"20\", \\n        \"word_count\": \"647\", \\n        \"_id\": \"587d6f3495d0e0392607b066\", \\n        \"snippet\": \"The president\\\\u2019s terrible record on clemency has gotten better, but pardon grants remain abysmally low....\", \\n        \"source\": \"The New York Times\", \\n        \"slideshow_credits\": null, \\n        \"web_url\": \"http://www.nytimes.com/2017/01/16/opinion/mr-obama-pick-up-your-pardon-pen.html\", \\n        \"multimedia\": [\\n          {\\n            \"subtype\": \"wide\", \\n            \"url\": \"images/2017/01/17/opinion/17TUES1/17TUES1-thumbWide.jpg\", \\n            \"height\": 126, \\n            \"width\": 190, \\n            \"legacy\": {\\n              \"wide\": \"images/2017/01/17/opinion/17TUES1/17TUES1-thumbWide.jpg\", \\n              \"wideheight\": \"126\", \\n              \"widewidth\": \"190\"\\n            }, \\n            \"type\": \"image\"\\n          }, \\n          {\\n            \"subtype\": \"xlarge\", \\n            \"url\": \"images/2017/01/17/opinion/17TUES1/17TUES1-articleLarge.jpg\", \\n            \"height\": 400, \\n            \"width\": 600, \\n            \"legacy\": {\\n              \"xlargewidth\": \"600\", \\n              \"xlarge\": \"images/2017/01/17/opinion/17TUES1/17TUES1-articleLarge.jpg\", \\n              \"xlargeheight\": \"400\"\\n            }, \\n            \"type\": \"image\"\\n          }, \\n          {\\n            \"subtype\": \"thumbnail\", \\n            \"url\": \"images/2017/01/17/opinion/17TUES1/17TUES1-thumbStandard.jpg\", \\n            \"height\": 75, \\n            \"width\": 75, \\n            \"legacy\": {\\n              \"thumbnailheight\": \"75\", \\n              \"thumbnail\": \"images/2017/01/17/opinion/17TUES1/17TUES1-thumbStandard.jpg\", \\n              \"thumbnailwidth\": \"75\"\\n            }, \\n            \"type\": \"image\"\\n          }\\n        ], \\n        \"subsection_name\": null, \\n        \"keywords\": [\\n          {\\n            \"value\": \"Amnesties, Commutations and Pardons\", \\n            \"is_major\": \"N\", \\n            \"rank\": \"1\", \\n            \"name\": \"subject\"\\n          }, \\n          {\\n            \"value\": \"Obama, Barack\", \\n            \"is_major\": \"N\", \\n            \"rank\": \"2\", \\n            \"name\": \"persons\"\\n          }, \\n          {\\n            \"value\": \"United States Politics and Government\", \\n            \"is_major\": \"N\", \\n            \"rank\": \"3\", \\n            \"name\": \"subject\"\\n          }\\n        ], \\n        \"byline\": {\\n          \"person\": [], \\n          \"original\": \"By THE EDITORIAL BOARD\", \\n          \"organization\": \"THE EDITORIAL BOARD\"\\n        }, \\n        \"document_type\": \"article\", \\n        \"pub_date\": \"2017-01-17T01:11:09+0000\", \\n        \"section_name\": \"Opinion\"\\n      }, \\n      {\\n        \"type_of_material\": \"News\", \\n        \"blog\": [], \\n        \"news_desk\": \"Styles\", \\n        \"lead_paragraph\": \"No one understood the role of fashion, and the potential uses of its power, better than the first lady.\", \\n        \"headline\": {\\n          \"main\": \"What Michelle Obama Wore and Why It Mattered\", \\n          \"kicker\": \"Critic\\'s Notebook\", \\n          \"print_headline\": \"How Clothes Defined Her\", \\n          \"content_kicker\": \"Critic\\'s Notebook\"\\n        }, \\n        \"abstract\": null, \\n        \"print_page\": \"1\", \\n        \"word_count\": \"2089\", \\n        \"_id\": \"587a04c095d0e0392607ab73\", \\n        \"snippet\": \"No one understood the role of fashion, and the potential uses of its power, better than the first lady....\", \\n        \"source\": \"The New York Times\", \\n        \"slideshow_credits\": null, \\n        \"web_url\": \"http://www.nytimes.com/2017/01/14/fashion/michelle-obama-first-lady-fashion.html\", \\n        \"multimedia\": [\\n          {\\n            \"subtype\": \"wide\", \\n            \"url\": \"images/2017/01/15/fashion/15MICHELLE-SS-slide-8MDL/15MICHELLE-SS-slide-8MDL-thumbWide.jpg\", \\n            \"height\": 126, \\n            \"width\": 190, \\n            \"legacy\": {\\n              \"wide\": \"images/2017/01/15/fashion/15MICHELLE-SS-slide-8MDL/15MICHELLE-SS-slide-8MDL-thumbWide.jpg\", \\n              \"wideheight\": \"126\", \\n              \"widewidth\": \"190\"\\n            }, \\n            \"type\": \"image\"\\n          }, \\n          {\\n            \"subtype\": \"xlarge\", \\n            \"url\": \"images/2017/01/15/fashion/15MICHELLE-SS-slide-8MDL/15MICHELLE-SS-slide-8MDL-articleLarge.jpg\", \\n            \"height\": 1262, \\n            \"width\": 600, \\n            \"legacy\": {\\n              \"xlargewidth\": \"600\", \\n              \"xlarge\": \"images/2017/01/15/fashion/15MICHELLE-SS-slide-8MDL/15MICHELLE-SS-slide-8MDL-articleLarge.jpg\", \\n              \"xlargeheight\": \"1262\"\\n            }, \\n            \"type\": \"image\"\\n          }, \\n          {\\n            \"subtype\": \"thumbnail\", \\n            \"url\": \"images/2017/01/15/fashion/15MICHELLE-SS-slide-8MDL/15MICHELLE-SS-slide-8MDL-thumbStandard.jpg\", \\n            \"height\": 75, \\n            \"width\": 75, \\n            \"legacy\": {\\n              \"thumbnailheight\": \"75\", \\n              \"thumbnail\": \"images/2017/01/15/fashion/15MICHELLE-SS-slide-8MDL/15MICHELLE-SS-slide-8MDL-thumbStandard.jpg\", \\n              \"thumbnailwidth\": \"75\"\\n            }, \\n            \"type\": \"image\"\\n          }\\n        ], \\n        \"subsection_name\": null, \\n        \"keywords\": [\\n          {\\n            \"value\": \"Obama, Michelle\", \\n            \"is_major\": \"N\", \\n            \"rank\": \"1\", \\n            \"name\": \"persons\"\\n          }, \\n          {\\n            \"value\": \"Fashion and Apparel\", \\n            \"is_major\": \"N\", \\n            \"rank\": \"2\", \\n            \"name\": \"subject\"\\n          }, \\n          {\\n            \"value\": \"United States Politics and Government\", \\n            \"is_major\": \"N\", \\n            \"rank\": \"3\", \\n            \"name\": \"subject\"\\n          }\\n        ], \\n        \"byline\": {\\n          \"contributor\": \"\", \\n          \"person\": [\\n            {\\n              \"organization\": \"\", \\n              \"role\": \"reported\", \\n              \"rank\": 1, \\n              \"firstname\": \"Vanessa\", \\n              \"lastname\": \"FRIEDMAN\"\\n            }\\n          ], \\n          \"original\": \"By VANESSA FRIEDMAN\"\\n        }, \\n        \"document_type\": \"article\", \\n        \"pub_date\": \"2017-01-14T11:00:05+0000\", \\n        \"section_name\": \"Fashion & Style\"\\n      }, \\n      {\\n        \"type_of_material\": \"News\", \\n        \"blog\": [], \\n        \"news_desk\": \"National\", \\n        \"lead_paragraph\": \"At his final news conference in the White House, the president was asked about his future and his decision to commute the sentence of Chelsea Manning.\", \\n        \"headline\": {\\n          \"main\": \"Obama Vows to Speak Out on \\\\u2018Core Values\\\\u2019 After Office\"\\n        }, \\n        \"abstract\": null, \\n        \"print_page\": null, \\n        \"word_count\": \"909\", \\n        \"_id\": \"587fa2fe95d0e0392607b666\", \\n        \"snippet\": \"At his final news conference in the White House, the president was asked about his future and his decision to commute the sentence of Chelsea Manning....\", \\n        \"source\": \"The New York Times\", \\n        \"slideshow_credits\": null, \\n        \"web_url\": \"http://www.nytimes.com/2017/01/18/us/politics/obama-last-news-conference-as-president.html\", \\n        \"multimedia\": [], \\n        \"subsection_name\": \"Politics\", \\n        \"keywords\": [\\n          {\\n            \"value\": \"Obama, Barack\", \\n            \"is_major\": \"N\", \\n            \"rank\": \"1\", \\n            \"name\": \"persons\"\\n          }, \\n          {\\n            \"value\": \"News and News Media\", \\n            \"is_major\": \"N\", \\n            \"rank\": \"2\", \\n            \"name\": \"subject\"\\n          }, \\n          {\\n            \"value\": \"White House Building (Washington, DC)\", \\n            \"is_major\": \"N\", \\n            \"rank\": \"3\", \\n            \"name\": \"subject\"\\n          }, \\n          {\\n            \"value\": \"United States Politics and Government\", \\n            \"is_major\": \"N\", \\n            \"rank\": \"4\", \\n            \"name\": \"subject\"\\n          }\\n        ], \\n        \"byline\": {\\n          \"person\": [\\n            {\\n              \"organization\": \"\", \\n              \"role\": \"reported\", \\n              \"rank\": 1, \\n              \"firstname\": \"Michael\"\\n            }\\n          ], \\n          \"original\": \"By MICHAEL D. SHEAR and PETER BAKER\"\\n        }, \\n        \"document_type\": \"article\", \\n        \"pub_date\": \"2017-01-18T17:16:43+0000\", \\n        \"section_name\": \"U.S.\"\\n      }, \\n      {\\n        \"type_of_material\": \"Op-Ed\", \\n        \"blog\": [], \\n        \"news_desk\": \"OpEd\", \\n        \"lead_paragraph\": \"A party that controls the White House for two terms typically loses political power elsewhere.\", \\n        \"headline\": {\\n          \"main\": \"Obama-Era Political Losses, the Real Story\", \\n          \"kicker\": \"Op-Ed Columnist\", \\n          \"content_kicker\": \"Op-Ed Columnist\"\\n        }, \\n        \"abstract\": null, \\n        \"print_page\": null, \\n        \"word_count\": \"372\", \\n        \"_id\": \"587cc6f995d0e0392607af2d\", \\n        \"snippet\": \"A party that controls the White House for two terms typically loses political power elsewhere....\", \\n        \"source\": \"The New York Times\", \\n        \"slideshow_credits\": null, \\n        \"web_url\": \"http://www.nytimes.com/2017/01/16/opinion/a-new-take-on-democrats-obama-era-losses.html\", \\n        \"multimedia\": [], \\n        \"subsection_name\": null, \\n        \"keywords\": [\\n          {\\n            \"value\": \"Presidential Election of 2016\", \\n            \"is_major\": \"N\", \\n            \"rank\": \"1\", \\n            \"name\": \"subject\"\\n          }, \\n          {\\n            \"value\": \"Democratic Party\", \\n            \"is_major\": \"N\", \\n            \"rank\": \"2\", \\n            \"name\": \"organizations\"\\n          }, \\n          {\\n            \"value\": \"Obama, Barack\", \\n            \"is_major\": \"N\", \\n            \"rank\": \"3\", \\n            \"name\": \"persons\"\\n          }\\n        ], \\n        \"byline\": {\\n          \"person\": [\\n            {\\n              \"organization\": \"\", \\n              \"role\": \"reported\", \\n              \"rank\": 1, \\n              \"firstname\": \"David\", \\n              \"lastname\": \"LEONHARDT\"\\n            }\\n          ], \\n          \"original\": \"By DAVID LEONHARDT\"\\n        }, \\n        \"document_type\": \"article\", \\n        \"pub_date\": \"2017-01-16T13:13:23+0000\", \\n        \"section_name\": \"Opinion\"\\n      }, \\n      {\\n        \"type_of_material\": \"News\", \\n        \"blog\": [], \\n        \"news_desk\": \"National\", \\n        \"lead_paragraph\": \"The president\\\\u2019s confidence was etched with frustration over economic inequity, racism and closed-mindedness that he said imperiled the nation\\\\u2019s democratic fabric.\", \\n        \"headline\": {\\n          \"main\": \"Obama, Saying Goodbye, Warns of Threats to National Unity\", \\n          \"print_headline\": \"Obama\\\\u2019s Farewell to the Nation: \\\\u2018Yes, We Did\\\\u2019\"\\n        }, \\n        \"abstract\": null, \\n        \"print_page\": \"1\", \\n        \"word_count\": \"1265\", \\n        \"_id\": \"5875c5d195d0e0392607a0bc\", \\n        \"snippet\": \"The president\\\\u2019s confidence was etched with frustration over economic inequity, racism and closed-mindedness that he said imperiled the nation\\\\u2019s democratic fabric....\", \\n        \"source\": \"The New York Times\", \\n        \"slideshow_credits\": null, \\n        \"web_url\": \"http://www.nytimes.com/2017/01/11/us/obama-farewell-address-president.html\", \\n        \"multimedia\": [\\n          {\\n            \"subtype\": \"wide\", \\n            \"url\": \"images/2017/01/11/us/politics/11altOBAMA/11altOBAMA-thumbWide.jpg\", \\n            \"height\": 126, \\n            \"width\": 190, \\n            \"legacy\": {\\n              \"wide\": \"images/2017/01/11/us/politics/11altOBAMA/11altOBAMA-thumbWide.jpg\", \\n              \"wideheight\": \"126\", \\n              \"widewidth\": \"190\"\\n            }, \\n            \"type\": \"image\"\\n          }, \\n          {\\n            \"subtype\": \"xlarge\", \\n            \"url\": \"images/2017/01/11/us/politics/11altOBAMA/11altOBAMA-articleLarge.jpg\", \\n            \"height\": 392, \\n            \"width\": 600, \\n            \"legacy\": {\\n              \"xlargewidth\": \"600\", \\n              \"xlarge\": \"images/2017/01/11/us/politics/11altOBAMA/11altOBAMA-articleLarge.jpg\", \\n              \"xlargeheight\": \"392\"\\n            }, \\n            \"type\": \"image\"\\n          }, \\n          {\\n            \"subtype\": \"thumbnail\", \\n            \"url\": \"images/2017/01/11/us/politics/11altOBAMA/11altOBAMA-thumbStandard.jpg\", \\n            \"height\": 75, \\n            \"width\": 75, \\n            \"legacy\": {\\n              \"thumbnailheight\": \"75\", \\n              \"thumbnail\": \"images/2017/01/11/us/politics/11altOBAMA/11altOBAMA-thumbStandard.jpg\", \\n              \"thumbnailwidth\": \"75\"\\n            }, \\n            \"type\": \"image\"\\n          }\\n        ], \\n        \"subsection_name\": null, \\n        \"keywords\": [\\n          {\\n            \"value\": \"United States Politics and Government\", \\n            \"is_major\": \"N\", \\n            \"rank\": \"1\", \\n            \"name\": \"subject\"\\n          }, \\n          {\\n            \"value\": \"Obama, Barack\", \\n            \"is_major\": \"N\", \\n            \"rank\": \"2\", \\n            \"name\": \"persons\"\\n          }, \\n          {\\n            \"value\": \"Chicago (Ill)\", \\n            \"is_major\": \"N\", \\n            \"rank\": \"3\", \\n            \"name\": \"glocations\"\\n          }\\n        ], \\n        \"byline\": {\\n          \"person\": [\\n            {\\n              \"organization\": \"\", \\n              \"role\": \"reported\", \\n              \"rank\": 1, \\n              \"firstname\": \"Mark\", \\n              \"lastname\": \"LANDLER\"\\n            }, \\n            {\\n              \"organization\": \"\", \\n              \"role\": \"reported\", \\n              \"rank\": 2, \\n              \"firstname\": \"Julie\", \\n              \"lastname\": \"BOSMAN\"\\n            }\\n          ], \\n          \"original\": \"By MARK LANDLER and JULIE BOSMAN\"\\n        }, \\n        \"document_type\": \"article\", \\n        \"pub_date\": \"2017-01-11T05:42:34+0000\", \\n        \"section_name\": \"U.S.\"\\n      }\\n    ], \\n    \"facets\": {\\n      \"source\": {\\n        \"terms\": [\\n          {\\n            \"count\": 5158, \\n            \"term\": \"The New York Times\"\\n          }, \\n          {\\n            \"count\": 4760, \\n            \"term\": \"Reuters\"\\n          }, \\n          {\\n            \"count\": 4261, \\n            \"term\": \"AP\"\\n          }\\n        ]\\n      }, \\n      \"day_of_week\": {\\n        \"terms\": [\\n          {\\n            \"count\": 2566, \\n            \"term\": \"Tuesday\"\\n          }, \\n          {\\n            \"count\": 2508, \\n            \"term\": \"Friday\"\\n          }, \\n          {\\n            \"count\": 2497, \\n            \"term\": \"Wednesday\"\\n          }, \\n          {\\n            \"count\": 2458, \\n            \"term\": \"Thursday\"\\n          }, \\n          {\\n            \"count\": 1947, \\n            \"term\": \"Monday\"\\n          }\\n        ]\\n      }\\n    }, \\n    \"meta\": {\\n      \"hits\": 14179, \\n      \"offset\": 0, \\n      \"time\": 30\\n    }\\n  }, \\n  \"copyright\": \"Copyright (c) 2013 The New York Times Company.  All Rights Reserved.\"\\n}'"
      ]
     },
     "execution_count": 187,
     "metadata": {},
     "output_type": "execute_result"
    }
   ],
   "source": [
    "json.dumps(articles,indent=2)"
   ]
  },
  {
   "cell_type": "markdown",
   "metadata": {},
   "source": [
    "encode in .json formate"
   ]
  },
  {
   "cell_type": "markdown",
   "metadata": {},
   "source": [
    "The next cell is used to save all the results we get from NYTimesAPI into a .json file."
   ]
  },
  {
   "cell_type": "code",
   "execution_count": 188,
   "metadata": {
    "collapsed": false
   },
   "outputs": [],
   "source": [
    " with open('results.json', 'w') as f:  \n",
    "        f.write(json.dumps(articles,indent = 2,skipkeys = True))  "
   ]
  },
  {
   "cell_type": "markdown",
   "metadata": {},
   "source": [
    "The next cell is used to convert .json file into .csv file"
   ]
  },
  {
   "cell_type": "code",
   "execution_count": 190,
   "metadata": {
    "collapsed": true
   },
   "outputs": [],
   "source": [
    "import csv\n",
    "import json\n",
    "import sys\n",
    "reload(sys)\n",
    "sys.setdefaultencoding('utf-8')\n",
    "\n",
    "def write_csv(data, filename):\n",
    "\twith open(filename, 'w') as outf:\n",
    "\t\tresult = True\n",
    "\t\tfor item in data:\n",
    "\t\t\twritter = csv.DictWriter(outf, item.keys(),extrasaction='ignore')\n",
    "\t\t\tif result == True:\n",
    "\t\t\t\twritter.writeheader()\n",
    "\t\t\t\tresult = False\n",
    "\t\t\telse:\n",
    "\t\t\t\twritter.writerow(item)\n",
    "\n",
    "\n",
    "\n",
    "data = json.loads(open('results.json').read())\n",
    "data = data['response']['docs']\n",
    "write_csv(data,'results.csv')\n"
   ]
  },
  {
   "cell_type": "markdown",
   "metadata": {},
   "source": [
    "the next few cells are just stupid mistakes I made during debuging. Just run all the codes above and you will get the result."
   ]
  },
  {
   "cell_type": "code",
   "execution_count": 141,
   "metadata": {
    "collapsed": false
   },
   "outputs": [],
   "source": [
    "import csv\n",
    "import json\n",
    "def read_json(filename):\n",
    "\treturn json.loads(open(filename).read())"
   ]
  },
  {
   "cell_type": "code",
   "execution_count": 158,
   "metadata": {
    "collapsed": false
   },
   "outputs": [],
   "source": [
    "def write_csv(data, filename):\n",
    "\twith open(filename, 'w') as outf:\n",
    "\t\tdw = csv.DictWriter(outf, data[0].keys(),extrasaction='ignore')\n",
    "\t\tdw.writeheader()\n",
    "\t\tfor row in data:\n",
    "\t\t\tdw.writerows(rows)"
   ]
  },
  {
   "cell_type": "code",
   "execution_count": 155,
   "metadata": {
    "collapsed": false
   },
   "outputs": [
    {
     "name": "stdout",
     "output_type": "stream",
     "text": [
      "[u'docs', u'meta']\n"
     ]
    }
   ],
   "source": [
    "x = read_json('results.json')\n",
    "print x['response'].keys()"
   ]
  },
  {
   "cell_type": "code",
   "execution_count": 178,
   "metadata": {
    "collapsed": false,
    "scrolled": true
   },
   "outputs": [
    {
     "ename": "AttributeError",
     "evalue": "'str' object has no attribute 'get'",
     "output_type": "error",
     "traceback": [
      "\u001b[0;31m---------------------------------------------------------------------------\u001b[0m",
      "\u001b[0;31mAttributeError\u001b[0m                            Traceback (most recent call last)",
      "\u001b[0;32m<ipython-input-178-b060617c5365>\u001b[0m in \u001b[0;36m<module>\u001b[0;34m()\u001b[0m\n\u001b[0;32m----> 1\u001b[0;31m \u001b[0mwrite_csv\u001b[0m\u001b[0;34m(\u001b[0m\u001b[0mread_json\u001b[0m\u001b[0;34m(\u001b[0m\u001b[0;34m'results.json'\u001b[0m\u001b[0;34m)\u001b[0m\u001b[0;34m,\u001b[0m \u001b[0;34m'results.csv'\u001b[0m\u001b[0;34m)\u001b[0m\u001b[0;34m\u001b[0m\u001b[0m\n\u001b[0m",
      "\u001b[0;32m<ipython-input-175-0c21d3f83331>\u001b[0m in \u001b[0;36mwrite_csv\u001b[0;34m(data, filename)\u001b[0m\n\u001b[1;32m     12\u001b[0m                 \u001b[0;32mfor\u001b[0m \u001b[0mrow\u001b[0m \u001b[0;32min\u001b[0m \u001b[0mdata\u001b[0m\u001b[0;34m:\u001b[0m\u001b[0;34m\u001b[0m\u001b[0m\n\u001b[1;32m     13\u001b[0m                         \u001b[0mlist1\u001b[0m \u001b[0;34m=\u001b[0m \u001b[0mlist\u001b[0m\u001b[0;34m(\u001b[0m\u001b[0mrow\u001b[0m\u001b[0;34m)\u001b[0m\u001b[0;34m\u001b[0m\u001b[0m\n\u001b[0;32m---> 14\u001b[0;31m                         \u001b[0mdw\u001b[0m\u001b[0;34m.\u001b[0m\u001b[0mwriterows\u001b[0m\u001b[0;34m(\u001b[0m\u001b[0mlist1\u001b[0m\u001b[0;34m)\u001b[0m\u001b[0;34m\u001b[0m\u001b[0m\n\u001b[0m\u001b[1;32m     15\u001b[0m \u001b[0;32mdef\u001b[0m \u001b[0mflattenjson\u001b[0m\u001b[0;34m(\u001b[0m \u001b[0mb\u001b[0m\u001b[0;34m,\u001b[0m \u001b[0mdelim\u001b[0m \u001b[0;34m)\u001b[0m\u001b[0;34m:\u001b[0m\u001b[0;34m\u001b[0m\u001b[0m\n\u001b[1;32m     16\u001b[0m     \u001b[0mval\u001b[0m \u001b[0;34m=\u001b[0m \u001b[0;34m{\u001b[0m\u001b[0;34m}\u001b[0m\u001b[0;34m\u001b[0m\u001b[0m\n",
      "\u001b[0;32m/Users/hanpoleon/anaconda/lib/python2.7/csv.pyc\u001b[0m in \u001b[0;36mwriterows\u001b[0;34m(self, rowdicts)\u001b[0m\n\u001b[1;32m    155\u001b[0m         \u001b[0mrows\u001b[0m \u001b[0;34m=\u001b[0m \u001b[0;34m[\u001b[0m\u001b[0;34m]\u001b[0m\u001b[0;34m\u001b[0m\u001b[0m\n\u001b[1;32m    156\u001b[0m         \u001b[0;32mfor\u001b[0m \u001b[0mrowdict\u001b[0m \u001b[0;32min\u001b[0m \u001b[0mrowdicts\u001b[0m\u001b[0;34m:\u001b[0m\u001b[0;34m\u001b[0m\u001b[0m\n\u001b[0;32m--> 157\u001b[0;31m             \u001b[0mrows\u001b[0m\u001b[0;34m.\u001b[0m\u001b[0mappend\u001b[0m\u001b[0;34m(\u001b[0m\u001b[0mself\u001b[0m\u001b[0;34m.\u001b[0m\u001b[0m_dict_to_list\u001b[0m\u001b[0;34m(\u001b[0m\u001b[0mrowdict\u001b[0m\u001b[0;34m)\u001b[0m\u001b[0;34m)\u001b[0m\u001b[0;34m\u001b[0m\u001b[0m\n\u001b[0m\u001b[1;32m    158\u001b[0m         \u001b[0;32mreturn\u001b[0m \u001b[0mself\u001b[0m\u001b[0;34m.\u001b[0m\u001b[0mwriter\u001b[0m\u001b[0;34m.\u001b[0m\u001b[0mwriterows\u001b[0m\u001b[0;34m(\u001b[0m\u001b[0mrows\u001b[0m\u001b[0;34m)\u001b[0m\u001b[0;34m\u001b[0m\u001b[0m\n\u001b[1;32m    159\u001b[0m \u001b[0;34m\u001b[0m\u001b[0m\n",
      "\u001b[0;32m/Users/hanpoleon/anaconda/lib/python2.7/csv.pyc\u001b[0m in \u001b[0;36m_dict_to_list\u001b[0;34m(self, rowdict)\u001b[0m\n\u001b[1;32m    147\u001b[0m                 raise ValueError(\"dict contains fields not in fieldnames: \"\n\u001b[1;32m    148\u001b[0m                                  + \", \".join([repr(x) for x in wrong_fields]))\n\u001b[0;32m--> 149\u001b[0;31m         \u001b[0;32mreturn\u001b[0m \u001b[0;34m[\u001b[0m\u001b[0mrowdict\u001b[0m\u001b[0;34m.\u001b[0m\u001b[0mget\u001b[0m\u001b[0;34m(\u001b[0m\u001b[0mkey\u001b[0m\u001b[0;34m,\u001b[0m \u001b[0mself\u001b[0m\u001b[0;34m.\u001b[0m\u001b[0mrestval\u001b[0m\u001b[0;34m)\u001b[0m \u001b[0;32mfor\u001b[0m \u001b[0mkey\u001b[0m \u001b[0;32min\u001b[0m \u001b[0mself\u001b[0m\u001b[0;34m.\u001b[0m\u001b[0mfieldnames\u001b[0m\u001b[0;34m]\u001b[0m\u001b[0;34m\u001b[0m\u001b[0m\n\u001b[0m\u001b[1;32m    150\u001b[0m \u001b[0;34m\u001b[0m\u001b[0m\n\u001b[1;32m    151\u001b[0m     \u001b[0;32mdef\u001b[0m \u001b[0mwriterow\u001b[0m\u001b[0;34m(\u001b[0m\u001b[0mself\u001b[0m\u001b[0;34m,\u001b[0m \u001b[0mrowdict\u001b[0m\u001b[0;34m)\u001b[0m\u001b[0;34m:\u001b[0m\u001b[0;34m\u001b[0m\u001b[0m\n",
      "\u001b[0;31mAttributeError\u001b[0m: 'str' object has no attribute 'get'"
     ]
    }
   ],
   "source": [
    "write_csv(read_json('results.json'), 'results.csv')"
   ]
  },
  {
   "cell_type": "code",
   "execution_count": 168,
   "metadata": {
    "collapsed": false
   },
   "outputs": [
    {
     "name": "stdout",
     "output_type": "stream",
     "text": [
      "<type 'str'>\n"
     ]
    },
    {
     "ename": "AttributeError",
     "evalue": "'str' object has no attribute 'get'",
     "output_type": "error",
     "traceback": [
      "\u001b[0;31m---------------------------------------------------------------------------\u001b[0m",
      "\u001b[0;31mAttributeError\u001b[0m                            Traceback (most recent call last)",
      "\u001b[0;32m<ipython-input-168-d95520877593>\u001b[0m in \u001b[0;36m<module>\u001b[0;34m()\u001b[0m\n\u001b[1;32m     29\u001b[0m \u001b[0;31m#data = read_json('results.json')\u001b[0m\u001b[0;34m\u001b[0m\u001b[0;34m\u001b[0m\u001b[0m\n\u001b[1;32m     30\u001b[0m \u001b[0;31m#print data,type(data)\u001b[0m\u001b[0;34m\u001b[0m\u001b[0;34m\u001b[0m\u001b[0m\n\u001b[0;32m---> 31\u001b[0;31m \u001b[0mwrite_csv\u001b[0m\u001b[0;34m(\u001b[0m\u001b[0mdata\u001b[0m\u001b[0;34m,\u001b[0m\u001b[0;34m'results.csv'\u001b[0m\u001b[0;34m)\u001b[0m\u001b[0;34m\u001b[0m\u001b[0m\n\u001b[0m",
      "\u001b[0;32m<ipython-input-168-d95520877593>\u001b[0m in \u001b[0;36mwrite_csv\u001b[0;34m(data, filename)\u001b[0m\n\u001b[1;32m     12\u001b[0m                 \u001b[0;32mfor\u001b[0m \u001b[0mrow\u001b[0m \u001b[0;32min\u001b[0m \u001b[0mdata\u001b[0m\u001b[0;34m:\u001b[0m\u001b[0;34m\u001b[0m\u001b[0m\n\u001b[1;32m     13\u001b[0m                         \u001b[0;32mprint\u001b[0m \u001b[0mtype\u001b[0m\u001b[0;34m(\u001b[0m\u001b[0mrow\u001b[0m\u001b[0;34m)\u001b[0m\u001b[0;34m\u001b[0m\u001b[0m\n\u001b[0;32m---> 14\u001b[0;31m                         \u001b[0mdw\u001b[0m\u001b[0;34m.\u001b[0m\u001b[0mwriterows\u001b[0m\u001b[0;34m(\u001b[0m\u001b[0mrow\u001b[0m\u001b[0;34m)\u001b[0m\u001b[0;34m\u001b[0m\u001b[0m\n\u001b[0m\u001b[1;32m     15\u001b[0m \u001b[0;32mdef\u001b[0m \u001b[0mflattenjson\u001b[0m\u001b[0;34m(\u001b[0m \u001b[0mb\u001b[0m\u001b[0;34m,\u001b[0m \u001b[0mdelim\u001b[0m \u001b[0;34m)\u001b[0m\u001b[0;34m:\u001b[0m\u001b[0;34m\u001b[0m\u001b[0m\n\u001b[1;32m     16\u001b[0m     \u001b[0mval\u001b[0m \u001b[0;34m=\u001b[0m \u001b[0;34m{\u001b[0m\u001b[0;34m}\u001b[0m\u001b[0;34m\u001b[0m\u001b[0m\n",
      "\u001b[0;32m/Users/hanpoleon/anaconda/lib/python2.7/csv.pyc\u001b[0m in \u001b[0;36mwriterows\u001b[0;34m(self, rowdicts)\u001b[0m\n\u001b[1;32m    155\u001b[0m         \u001b[0mrows\u001b[0m \u001b[0;34m=\u001b[0m \u001b[0;34m[\u001b[0m\u001b[0;34m]\u001b[0m\u001b[0;34m\u001b[0m\u001b[0m\n\u001b[1;32m    156\u001b[0m         \u001b[0;32mfor\u001b[0m \u001b[0mrowdict\u001b[0m \u001b[0;32min\u001b[0m \u001b[0mrowdicts\u001b[0m\u001b[0;34m:\u001b[0m\u001b[0;34m\u001b[0m\u001b[0m\n\u001b[0;32m--> 157\u001b[0;31m             \u001b[0mrows\u001b[0m\u001b[0;34m.\u001b[0m\u001b[0mappend\u001b[0m\u001b[0;34m(\u001b[0m\u001b[0mself\u001b[0m\u001b[0;34m.\u001b[0m\u001b[0m_dict_to_list\u001b[0m\u001b[0;34m(\u001b[0m\u001b[0mrowdict\u001b[0m\u001b[0;34m)\u001b[0m\u001b[0;34m)\u001b[0m\u001b[0;34m\u001b[0m\u001b[0m\n\u001b[0m\u001b[1;32m    158\u001b[0m         \u001b[0;32mreturn\u001b[0m \u001b[0mself\u001b[0m\u001b[0;34m.\u001b[0m\u001b[0mwriter\u001b[0m\u001b[0;34m.\u001b[0m\u001b[0mwriterows\u001b[0m\u001b[0;34m(\u001b[0m\u001b[0mrows\u001b[0m\u001b[0;34m)\u001b[0m\u001b[0;34m\u001b[0m\u001b[0m\n\u001b[1;32m    159\u001b[0m \u001b[0;34m\u001b[0m\u001b[0m\n",
      "\u001b[0;32m/Users/hanpoleon/anaconda/lib/python2.7/csv.pyc\u001b[0m in \u001b[0;36m_dict_to_list\u001b[0;34m(self, rowdict)\u001b[0m\n\u001b[1;32m    147\u001b[0m                 raise ValueError(\"dict contains fields not in fieldnames: \"\n\u001b[1;32m    148\u001b[0m                                  + \", \".join([repr(x) for x in wrong_fields]))\n\u001b[0;32m--> 149\u001b[0;31m         \u001b[0;32mreturn\u001b[0m \u001b[0;34m[\u001b[0m\u001b[0mrowdict\u001b[0m\u001b[0;34m.\u001b[0m\u001b[0mget\u001b[0m\u001b[0;34m(\u001b[0m\u001b[0mkey\u001b[0m\u001b[0;34m,\u001b[0m \u001b[0mself\u001b[0m\u001b[0;34m.\u001b[0m\u001b[0mrestval\u001b[0m\u001b[0;34m)\u001b[0m \u001b[0;32mfor\u001b[0m \u001b[0mkey\u001b[0m \u001b[0;32min\u001b[0m \u001b[0mself\u001b[0m\u001b[0;34m.\u001b[0m\u001b[0mfieldnames\u001b[0m\u001b[0;34m]\u001b[0m\u001b[0;34m\u001b[0m\u001b[0m\n\u001b[0m\u001b[1;32m    150\u001b[0m \u001b[0;34m\u001b[0m\u001b[0m\n\u001b[1;32m    151\u001b[0m     \u001b[0;32mdef\u001b[0m \u001b[0mwriterow\u001b[0m\u001b[0;34m(\u001b[0m\u001b[0mself\u001b[0m\u001b[0;34m,\u001b[0m \u001b[0mrowdict\u001b[0m\u001b[0;34m)\u001b[0m\u001b[0;34m:\u001b[0m\u001b[0;34m\u001b[0m\u001b[0m\n",
      "\u001b[0;31mAttributeError\u001b[0m: 'str' object has no attribute 'get'"
     ]
    }
   ],
   "source": [
    "import unicodecsv as csv\n",
    "import json\n",
    "import ast\n",
    "import yaml\n",
    "\n",
    "def read_json(filename):\n",
    "\treturn yaml.safe_load(open(filename).read())\n",
    "def write_csv(data, filename):\n",
    "\twith open(filename, 'w') as outf:\n",
    "\t\tdw = csv.DictWriter(outf, data.keys(),extrasaction='ignore',encoding='utf-8')\n",
    "\t\tdw.writeheader()\n",
    "\t\tfor row in data:\n",
    "\t\t\tprint type(row)\n",
    "\t\t\tdw.writerows(row)\n",
    "def flattenjson( b, delim ):\n",
    "    val = {}\n",
    "    for i in b.keys():\n",
    "        if isinstance( b[i], dict ):\n",
    "            get = flattenjson( b[i], delim )\n",
    "            for j in get.keys():\n",
    "                val[ i + delim + j ] = get[j]\n",
    "        else:\n",
    "            val[i] = b[i]\n",
    "\n",
    "    return val\n",
    "\n",
    "\n",
    "data = flattenjson(yaml.safe_load(open('results.json').read()),'_')\n",
    "#data = read_json('results.json')\n",
    "#print data,type(data)\n",
    "write_csv(data,'results.csv')"
   ]
  },
  {
   "cell_type": "code",
   "execution_count": 176,
   "metadata": {
    "collapsed": false
   },
   "outputs": [
    {
     "ename": "IndentationError",
     "evalue": "unindent does not match any outer indentation level (<ipython-input-176-7a39c1f16bbb>, line 14)",
     "output_type": "error",
     "traceback": [
      "\u001b[0;36m  File \u001b[0;32m\"<ipython-input-176-7a39c1f16bbb>\"\u001b[0;36m, line \u001b[0;32m14\u001b[0m\n\u001b[0;31m    print type(list1)\u001b[0m\n\u001b[0m                     ^\u001b[0m\n\u001b[0;31mIndentationError\u001b[0m\u001b[0;31m:\u001b[0m unindent does not match any outer indentation level\n"
     ]
    }
   ],
   "source": [
    "import unicodecsv as csv\n",
    "import simplejson\n",
    "import ast\n",
    "import yaml\n",
    "\n",
    "def read_json(filename):\n",
    "\treturn simplejson.loads(open(filename).read())\n",
    "def write_csv(data, filename):\n",
    "\twith open(filename, 'w') as outf:\n",
    "\t\tdw = csv.DictWriter(outf, data.keys(),extrasaction='ignore',encoding='utf-8')\n",
    "\t\tdw.writeheader()\n",
    "\t\tfor row in data:\n",
    "\t\t\tlist1 = dict(row)\n",
    "            print type(list1)\n",
    "\t\t\tdw.writerows(list1)\n",
    "def flattenjson( b, delim ):\n",
    "    val = {}\n",
    "    for i in b.keys():\n",
    "        if isinstance( b[i], dict ):\n",
    "            get = flattenjson( b[i], delim )\n",
    "            for j in get.keys():\n",
    "                val[ i + delim + j ] = get[j]\n",
    "        else:\n",
    "            val[i] = b[i]\n",
    "\n",
    "    return val\n",
    "\n",
    "\n",
    "data = flattenjson(simplejson.loads(open('results.json').read()),'_')\n",
    "#data = read_json('results.json')\n",
    "#print data,type(data)\n",
    "write_csv(data,'results.csv')"
   ]
  },
  {
   "cell_type": "code",
   "execution_count": null,
   "metadata": {
    "collapsed": true
   },
   "outputs": [],
   "source": []
  }
 ],
 "metadata": {
  "kernelspec": {
   "display_name": "Python [default]",
   "language": "python",
   "name": "python2"
  },
  "language_info": {
   "codemirror_mode": {
    "name": "ipython",
    "version": 2
   },
   "file_extension": ".py",
   "mimetype": "text/x-python",
   "name": "python",
   "nbconvert_exporter": "python",
   "pygments_lexer": "ipython2",
   "version": "2.7.12"
  }
 },
 "nbformat": 4,
 "nbformat_minor": 1
}
