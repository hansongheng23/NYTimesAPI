{
 "cells": [
  {
   "cell_type": "markdown",
   "metadata": {},
   "source": [
    "First, you nened to make sure all the files in the same folder."
   ]
  },
  {
   "cell_type": "code",
   "execution_count": 8,
   "metadata": {
    "collapsed": false
   },
   "outputs": [
    {
     "data": {
      "text/plain": [
       "u'/Users/hanpoleon/Desktop/nytimesarticle-0.1.0'"
      ]
     },
     "execution_count": 8,
     "metadata": {},
     "output_type": "execute_result"
    }
   ],
   "source": [
    "%pwd"
   ]
  },
  {
   "cell_type": "code",
   "execution_count": 191,
   "metadata": {
    "collapsed": true
   },
   "outputs": [],
   "source": [
    "from nytimesarticle import articleAPI"
   ]
  },
  {
   "cell_type": "markdown",
   "metadata": {},
   "source": [
    "import articleAPI"
   ]
  },
  {
   "cell_type": "code",
   "execution_count": 192,
   "metadata": {
    "collapsed": true
   },
   "outputs": [],
   "source": [
    "api = articleAPI('b2db5703859f4df1a33f49be73d84324')"
   ]
  },
  {
   "cell_type": "markdown",
   "metadata": {},
   "source": [
    "activate articleAPI"
   ]
  },
  {
   "cell_type": "code",
   "execution_count": 199,
   "metadata": {
    "collapsed": false
   },
   "outputs": [],
   "source": [
    "articles = api.search( q = 'University of Toronto', fq = {'source':['Reuters','AP', 'The New York Times']}, begin_date = 20111231, facet_field = ['source','day_of_week'], facet_filter = True )"
   ]
  },
  {
   "cell_type": "markdown",
   "metadata": {},
   "source": [
    "search articles you need "
   ]
  },
  {
   "cell_type": "code",
   "execution_count": 197,
   "metadata": {
    "collapsed": false
   },
   "outputs": [],
   "source": [
    "print articles"
   ]
  },
  {
   "cell_type": "markdown",
   "metadata": {},
   "source": [
    "result you get"
   ]
  },
  {
   "cell_type": "code",
   "execution_count": 200,
   "metadata": {
    "collapsed": false
   },
   "outputs": [
    {
     "data": {
      "text/plain": [
       "'{\\n  \"status\": \"OK\", \\n  \"response\": {\\n    \"docs\": [\\n      {\\n        \"type_of_material\": \"News\", \\n        \"blog\": [], \\n        \"news_desk\": \"SundayBusiness\", \\n        \"lead_paragraph\": \"Researchers have found that something as small as text message reminders can help children born into poor families close the gap with richer students.\", \\n        \"headline\": {\\n          \"main\": \"Helping the Poor in Education: The Power of a Simple Nudge\", \\n          \"kicker\": \"The Upshot\", \\n          \"print_headline\": \"The Power of a Simple Nudge\", \\n          \"content_kicker\": \"Economic View\"\\n        }, \\n        \"abstract\": \"The Upshot; Susan Dynarski Economic View column identifies various small, inexpensive and effective measures that researchers have found can improve education performance of children; questions why local and state governments do not adopt such measures.\", \\n        \"print_page\": \"6\", \\n        \"word_count\": \"1015\", \\n        \"_id\": \"54ba925138f0d83735b5a9ee\", \\n        \"snippet\": \"Researchers have found that something as small as text message reminders can help children born into poor families close the gap with richer students....\", \\n        \"source\": \"The New York Times\", \\n        \"slideshow_credits\": null, \\n        \"web_url\": \"http://www.nytimes.com/2015/01/18/upshot/helping-the-poor-in-higher-education-the-power-of-a-simple-nudge.html\", \\n        \"multimedia\": [\\n          {\\n            \"subtype\": \"wide\", \\n            \"url\": \"images/2015/01/18/business/18-VIEW/18-VIEW-thumbWide.jpg\", \\n            \"height\": 126, \\n            \"width\": 190, \\n            \"legacy\": {\\n              \"wide\": \"images/2015/01/18/business/18-VIEW/18-VIEW-thumbWide.jpg\", \\n              \"wideheight\": \"126\", \\n              \"widewidth\": \"190\"\\n            }, \\n            \"type\": \"image\"\\n          }, \\n          {\\n            \"subtype\": \"xlarge\", \\n            \"url\": \"images/2015/01/18/business/18-VIEW/18-VIEW-articleLarge.jpg\", \\n            \"height\": 394, \\n            \"width\": 600, \\n            \"legacy\": {\\n              \"xlargewidth\": \"600\", \\n              \"xlarge\": \"images/2015/01/18/business/18-VIEW/18-VIEW-articleLarge.jpg\", \\n              \"xlargeheight\": \"394\"\\n            }, \\n            \"type\": \"image\"\\n          }, \\n          {\\n            \"subtype\": \"thumbnail\", \\n            \"url\": \"images/2015/01/18/business/18-VIEW/18-VIEW-thumbStandard.jpg\", \\n            \"height\": 75, \\n            \"width\": 75, \\n            \"legacy\": {\\n              \"thumbnailheight\": \"75\", \\n              \"thumbnail\": \"images/2015/01/18/business/18-VIEW/18-VIEW-thumbStandard.jpg\", \\n              \"thumbnailwidth\": \"75\"\\n            }, \\n            \"type\": \"image\"\\n          }\\n        ], \\n        \"subsection_name\": null, \\n        \"keywords\": [\\n          {\\n            \"value\": \"Education (K-12)\", \\n            \"is_major\": \"Y\", \\n            \"rank\": \"1\", \\n            \"name\": \"subject\"\\n          }, \\n          {\\n            \"value\": \"Columbia University\", \\n            \"is_major\": \"N\", \\n            \"rank\": \"11\", \\n            \"name\": \"organizations\"\\n          }, \\n          {\\n            \"value\": \"Bergman, Peter\", \\n            \"is_major\": \"N\", \\n            \"rank\": \"12\", \\n            \"name\": \"persons\"\\n          }, \\n          {\\n            \"value\": \"Colleges and Universities\", \\n            \"is_major\": \"N\", \\n            \"rank\": \"2\", \\n            \"name\": \"subject\"\\n          }, \\n          {\\n            \"value\": \"Children and Childhood\", \\n            \"is_major\": \"N\", \\n            \"rank\": \"3\", \\n            \"name\": \"subject\"\\n          }, \\n          {\\n            \"value\": \"Equal Educational Opportunities\", \\n            \"is_major\": \"N\", \\n            \"rank\": \"4\", \\n            \"name\": \"subject\"\\n          }, \\n          {\\n            \"value\": \"Education (Pre-School)\", \\n            \"is_major\": \"N\", \\n            \"rank\": \"5\", \\n            \"name\": \"subject\"\\n          }, \\n          {\\n            \"value\": \"Income Inequality\", \\n            \"is_major\": \"N\", \\n            \"rank\": \"6\", \\n            \"name\": \"subject\"\\n          }, \\n          {\\n            \"value\": \"Harvard University\", \\n            \"is_major\": \"N\", \\n            \"rank\": \"7\", \\n            \"name\": \"organizations\"\\n          }, \\n          {\\n            \"value\": \"Stanford University\", \\n            \"is_major\": \"N\", \\n            \"rank\": \"8\", \\n            \"name\": \"organizations\"\\n          }, \\n          {\\n            \"value\": \"University of Toronto\", \\n            \"is_major\": \"N\", \\n            \"rank\": \"9\", \\n            \"name\": \"organizations\"\\n          }, \\n          {\\n            \"value\": \"University of Chicago\", \\n            \"is_major\": \"N\", \\n            \"rank\": \"10\", \\n            \"name\": \"organizations\"\\n          }\\n        ], \\n        \"byline\": {\\n          \"contributor\": \"\", \\n          \"person\": [\\n            {\\n              \"organization\": \"\", \\n              \"role\": \"reported\", \\n              \"rank\": 1, \\n              \"firstname\": \"Susan\", \\n              \"lastname\": \"DYNARSKI\"\\n            }\\n          ], \\n          \"original\": \"By SUSAN DYNARSKI\"\\n        }, \\n        \"document_type\": \"article\", \\n        \"pub_date\": \"2015-01-18T00:00:00Z\", \\n        \"section_name\": \"The Upshot\"\\n      }, \\n      {\\n        \"type_of_material\": \"News\", \\n        \"blog\": [], \\n        \"news_desk\": \"Foreign\", \\n        \"lead_paragraph\": \"A 25-year study involving 90,000 women has found that the breast-cancer screenings did not lower the death rate from the disease and had harms.\", \\n        \"headline\": {\\n          \"main\": \"Vast Study Casts Doubts on Value of Mammograms\", \\n          \"print_headline\": \"Vast Study Casts Doubts on Value of Mammograms\"\\n        }, \\n        \"abstract\": \"Study published in The British Medical Journal adds powerful new doubts about the value of mammography for women of any age; study is one of the largest and most meticulous ever done, involving 90,000 women and lasting a quarter-century; finds that death rates from breast cancer and from all causes were same in women who got mammograms and those who did not, and finds further that screenings caused harm.\", \\n        \"print_page\": \"1\", \\n        \"word_count\": \"1101\", \\n        \"_id\": \"52fab5e438f0d812174ee979\", \\n        \"snippet\": \"A 25-year study involving 90,000 women has found that the breast-cancer screenings did not lower the death rate from the disease and had harms....\", \\n        \"source\": \"The New York Times\", \\n        \"slideshow_credits\": null, \\n        \"web_url\": \"http://www.nytimes.com/2014/02/12/health/study-adds-new-doubts-about-value-of-mammograms.html\", \\n        \"multimedia\": [\\n          {\\n            \"subtype\": \"wide\", \\n            \"url\": \"images/2014/02/12/world/MAMMOGRAM/MAMMOGRAM-thumbWide.jpg\", \\n            \"height\": 126, \\n            \"width\": 190, \\n            \"legacy\": {\\n              \"wide\": \"images/2014/02/12/world/MAMMOGRAM/MAMMOGRAM-thumbWide.jpg\", \\n              \"wideheight\": \"126\", \\n              \"widewidth\": \"190\"\\n            }, \\n            \"type\": \"image\"\\n          }, \\n          {\\n            \"subtype\": \"xlarge\", \\n            \"url\": \"images/2014/02/12/world/MAMMOGRAM/MAMMOGRAM-articleLarge.jpg\", \\n            \"height\": 421, \\n            \"width\": 600, \\n            \"legacy\": {\\n              \"xlargewidth\": \"600\", \\n              \"xlarge\": \"images/2014/02/12/world/MAMMOGRAM/MAMMOGRAM-articleLarge.jpg\", \\n              \"xlargeheight\": \"421\"\\n            }, \\n            \"type\": \"image\"\\n          }, \\n          {\\n            \"subtype\": \"thumbnail\", \\n            \"url\": \"images/2014/02/12/world/MAMMOGRAM/MAMMOGRAM-thumbStandard.jpg\", \\n            \"height\": 75, \\n            \"width\": 75, \\n            \"legacy\": {\\n              \"thumbnailheight\": \"75\", \\n              \"thumbnail\": \"images/2014/02/12/world/MAMMOGRAM/MAMMOGRAM-thumbStandard.jpg\", \\n              \"thumbnailwidth\": \"75\"\\n            }, \\n            \"type\": \"image\"\\n          }\\n        ], \\n        \"subsection_name\": null, \\n        \"keywords\": [\\n          {\\n            \"value\": \"Deaths (Fatalities)\", \\n            \"is_major\": \"Y\", \\n            \"rank\": \"5\", \\n            \"name\": \"subject\"\\n          }, \\n          {\\n            \"value\": \"University of Toronto\", \\n            \"is_major\": \"N\", \\n            \"rank\": \"7\", \\n            \"name\": \"organizations\"\\n          }, \\n          {\\n            \"value\": \"Breast Cancer\", \\n            \"is_major\": \"Y\", \\n            \"rank\": \"3\", \\n            \"name\": \"subject\"\\n          }, \\n          {\\n            \"value\": \"Miller, Anthony B\", \\n            \"is_major\": \"N\", \\n            \"rank\": \"6\", \\n            \"name\": \"persons\"\\n          }, \\n          {\\n            \"value\": \"Mammography\", \\n            \"is_major\": \"Y\", \\n            \"rank\": \"1\", \\n            \"name\": \"subject\"\\n          }, \\n          {\\n            \"value\": \"Tests (Medical)\", \\n            \"is_major\": \"Y\", \\n            \"rank\": \"2\", \\n            \"name\": \"subject\"\\n          }, \\n          {\\n            \"value\": \"British Medical Journal\", \\n            \"is_major\": \"Y\", \\n            \"rank\": \"4\", \\n            \"name\": \"organizations\"\\n          }\\n        ], \\n        \"byline\": {\\n          \"contributor\": \"\", \\n          \"person\": [\\n            {\\n              \"organization\": \"\", \\n              \"role\": \"reported\", \\n              \"rank\": 1, \\n              \"firstname\": \"Gina\", \\n              \"lastname\": \"KOLATA\"\\n            }\\n          ], \\n          \"original\": \"By GINA KOLATA\"\\n        }, \\n        \"document_type\": \"article\", \\n        \"pub_date\": \"2014-02-12T00:00:00Z\", \\n        \"section_name\": \"Health\"\\n      }, \\n      {\\n        \"type_of_material\": \"News\", \\n        \"blog\": [], \\n        \"news_desk\": \"Sports\", \\n        \"lead_paragraph\": \"Columbus defeated Edmonton, 3-1, and can now tie the record set by the 1992-93 Pittsburgh Penguins.\", \\n        \"headline\": {\\n          \"main\": \"Blue Jackets\\\\u2019 Win Streak Reaches 16, One Shy of Record\", \\n          \"kicker\": \"Sports Briefing\", \\n          \"print_headline\": \"Blue Jackets\\\\u2019 Win Streak Reaches 16, One Shy of Record\", \\n          \"content_kicker\": \"Sports Briefing\"\\n        }, \\n        \"abstract\": null, \\n        \"print_page\": \"10\", \\n        \"word_count\": \"597\", \\n        \"_id\": \"586c84d995d0e03926078dae\", \\n        \"snippet\": \"Columbus defeated Edmonton, 3-1, and can now tie the record set by the 1992-93 Pittsburgh Penguins....\", \\n        \"source\": \"The New York Times\", \\n        \"slideshow_credits\": null, \\n        \"web_url\": \"http://www.nytimes.com/2017/01/04/sports/blue-jackets-win-streak-reaches-16-one-shy-of-record.html\", \\n        \"multimedia\": [], \\n        \"subsection_name\": null, \\n        \"keywords\": [\\n          {\\n            \"value\": \"Hockey, Ice\", \\n            \"is_major\": \"N\", \\n            \"rank\": \"1\", \\n            \"name\": \"subject\"\\n          }, \\n          {\\n            \"value\": \"University of Minnesota\", \\n            \"is_major\": \"N\", \\n            \"rank\": \"11\", \\n            \"name\": \"organizations\"\\n          }, \\n          {\\n            \"value\": \"Claeys, Tracy (1968- )\", \\n            \"is_major\": \"N\", \\n            \"rank\": \"12\", \\n            \"name\": \"persons\"\\n          }, \\n          {\\n            \"value\": \"Soccer\", \\n            \"is_major\": \"N\", \\n            \"rank\": \"13\", \\n            \"name\": \"subject\"\\n          }, \\n          {\\n            \"value\": \"Swansea City (Soccer Team)\", \\n            \"is_major\": \"N\", \\n            \"rank\": \"14\", \\n            \"name\": \"organizations\"\\n          }, \\n          {\\n            \"value\": \"Clement, Paul (1972- )\", \\n            \"is_major\": \"N\", \\n            \"rank\": \"15\", \\n            \"name\": \"persons\"\\n          }, \\n          {\\n            \"value\": \"Basketball\", \\n            \"is_major\": \"N\", \\n            \"rank\": \"16\", \\n            \"name\": \"subject\"\\n          }, \\n          {\\n            \"value\": \"San Antonio Spurs\", \\n            \"is_major\": \"N\", \\n            \"rank\": \"17\", \\n            \"name\": \"organizations\"\\n          }, \\n          {\\n            \"value\": \"Toronto Raptors\", \\n            \"is_major\": \"N\", \\n            \"rank\": \"18\", \\n            \"name\": \"organizations\"\\n          }, \\n          {\\n            \"value\": \"Tennis\", \\n            \"is_major\": \"N\", \\n            \"rank\": \"19\", \\n            \"name\": \"subject\"\\n          }, \\n          {\\n            \"value\": \"Murray, Andy (1987- )\", \\n            \"is_major\": \"N\", \\n            \"rank\": \"20\", \\n            \"name\": \"persons\"\\n          }, \\n          {\\n            \"value\": \"Columbus Blue Jackets\", \\n            \"is_major\": \"N\", \\n            \"rank\": \"2\", \\n            \"name\": \"organizations\"\\n          }, \\n          {\\n            \"value\": \"Chardy, Jeremy\", \\n            \"is_major\": \"N\", \\n            \"rank\": \"21\", \\n            \"name\": \"persons\"\\n          }, \\n          {\\n            \"value\": \"Edmonton Oilers\", \\n            \"is_major\": \"N\", \\n            \"rank\": \"3\", \\n            \"name\": \"organizations\"\\n          }, \\n          {\\n            \"value\": \"Football\", \\n            \"is_major\": \"N\", \\n            \"rank\": \"4\", \\n            \"name\": \"subject\"\\n          }, \\n          {\\n            \"value\": \"Pro Football Hall of Fame\", \\n            \"is_major\": \"N\", \\n            \"rank\": \"5\", \\n            \"name\": \"organizations\"\\n          }, \\n          {\\n            \"value\": \"Basketball (College)\", \\n            \"is_major\": \"N\", \\n            \"rank\": \"6\", \\n            \"name\": \"subject\"\\n          }, \\n          {\\n            \"value\": \"University of Kansas\", \\n            \"is_major\": \"N\", \\n            \"rank\": \"7\", \\n            \"name\": \"organizations\"\\n          }, \\n          {\\n            \"value\": \"Kansas State University\", \\n            \"is_major\": \"N\", \\n            \"rank\": \"8\", \\n            \"name\": \"organizations\"\\n          }, \\n          {\\n            \"value\": \"Football (College)\", \\n            \"is_major\": \"N\", \\n            \"rank\": \"9\", \\n            \"name\": \"subject\"\\n          }, \\n          {\\n            \"value\": \"Coaches and Managers\", \\n            \"is_major\": \"N\", \\n            \"rank\": \"10\", \\n            \"name\": \"subject\"\\n          }\\n        ], \\n        \"byline\": {\\n          \"person\": [], \\n          \"original\": \"By THE ASSOCIATED PRESS\", \\n          \"organization\": \"THE ASSOCIATED PRESS\"\\n        }, \\n        \"document_type\": \"article\", \\n        \"pub_date\": \"2017-01-04T05:15:02+0000\", \\n        \"section_name\": \"Sports\"\\n      }, \\n      {\\n        \"type_of_material\": \"News\", \\n        \"blog\": [], \\n        \"news_desk\": \"Foreign\", \\n        \"lead_paragraph\": \"A video being shopped by two men with drug connections apparently shows Mayor Rob Ford of Toronto smoking a crack pipe.\", \\n        \"headline\": {\\n          \"seo\": \"Toronto Mayor Is Accused of Using Cocaine\", \\n          \"main\": \"Toronto Mayor Is Besieged by Questions of Crack Use\", \\n          \"print_headline\": \"Toronto Mayor Is Besieged By Questions of Crack Use\"\\n        }, \\n        \"abstract\": \"Toronto Mayor Rob Ford, who has long been dogged by controversy over his often boorish behavior and less than diligent attention to work, faces his greatest political test after two reports that he is seen in video apparently using crack cocaine.\", \\n        \"print_page\": \"6\", \\n        \"word_count\": \"819\", \\n        \"_id\": \"5196d8b840e9ec457e2a20d2\", \\n        \"snippet\": \"A video being shopped by two men with drug connections apparently shows Mayor Rob Ford of Toronto smoking a crack pipe....\", \\n        \"source\": \"The New York Times\", \\n        \"slideshow_credits\": null, \\n        \"web_url\": \"http://www.nytimes.com/2013/05/18/world/americas/toronto-mayor-is-accused-of-using-crack-cocaine.html\", \\n        \"multimedia\": [\\n          {\\n            \"subtype\": \"wide\", \\n            \"url\": \"images/2013/05/18/world/canada/canada-thumbWide.jpg\", \\n            \"height\": 126, \\n            \"width\": 190, \\n            \"legacy\": {\\n              \"wide\": \"images/2013/05/18/world/canada/canada-thumbWide.jpg\", \\n              \"wideheight\": \"126\", \\n              \"widewidth\": \"190\"\\n            }, \\n            \"type\": \"image\"\\n          }, \\n          {\\n            \"subtype\": \"xlarge\", \\n            \"url\": \"images/2013/05/18/world/canada/canada-articleLarge.jpg\", \\n            \"height\": 416, \\n            \"width\": 600, \\n            \"legacy\": {\\n              \"xlargewidth\": \"600\", \\n              \"xlarge\": \"images/2013/05/18/world/canada/canada-articleLarge.jpg\", \\n              \"xlargeheight\": \"416\"\\n            }, \\n            \"type\": \"image\"\\n          }, \\n          {\\n            \"subtype\": \"thumbnail\", \\n            \"url\": \"images/2013/05/18/world/canada/canada-thumbStandard.jpg\", \\n            \"height\": 75, \\n            \"width\": 75, \\n            \"legacy\": {\\n              \"thumbnailheight\": \"75\", \\n              \"thumbnail\": \"images/2013/05/18/world/canada/canada-thumbStandard.jpg\", \\n              \"thumbnailwidth\": \"75\"\\n            }, \\n            \"type\": \"image\"\\n          }\\n        ], \\n        \"subsection_name\": \"Americas\", \\n        \"keywords\": [\\n          {\\n            \"value\": \"Ford, Robert B\", \\n            \"is_major\": \"Y\", \\n            \"rank\": \"1\", \\n            \"name\": \"persons\"\\n          }, \\n          {\\n            \"value\": \"Cocaine and Crack Cocaine\", \\n            \"is_major\": \"Y\", \\n            \"rank\": \"2\", \\n            \"name\": \"subject\"\\n          }, \\n          {\\n            \"value\": \"Video Recordings and Downloads\", \\n            \"is_major\": \"Y\", \\n            \"rank\": \"3\", \\n            \"name\": \"subject\"\\n          }, \\n          {\\n            \"value\": \"Toronto (Ontario)\", \\n            \"is_major\": \"Y\", \\n            \"rank\": \"4\", \\n            \"name\": \"glocations\"\\n          }\\n        ], \\n        \"byline\": {\\n          \"contributor\": \"\", \\n          \"person\": [\\n            {\\n              \"organization\": \"\", \\n              \"role\": \"reported\", \\n              \"rank\": 1, \\n              \"firstname\": \"Ian\", \\n              \"lastname\": \"AUSTEN\"\\n            }\\n          ], \\n          \"original\": \"By IAN AUSTEN\"\\n        }, \\n        \"document_type\": \"article\", \\n        \"pub_date\": \"2013-05-18T00:00:00Z\", \\n        \"section_name\": \"World\"\\n      }, \\n      {\\n        \"type_of_material\": \"Obituary\", \\n        \"blog\": [], \\n        \"news_desk\": \"Foreign\", \\n        \"lead_paragraph\": \"His admission that he used crack cocaine in one of his \\\\u201cdrunken stupors\\\\u201d brought Mr. Ford international notoriety.\", \\n        \"headline\": {\\n          \"main\": \"Rob Ford, Blustery Ex-Mayor of Toronto Whose Struggles Went Public, Dies at 46\", \\n          \"print_headline\": \"Rob Ford, Blustery Ex-Mayor of Toronto Whose Struggles Went Public, Dies at 46\"\\n        }, \\n        \"abstract\": \"Rob Ford, polarizing former mayor of Toronto whose controversial behavior was further scrutinized following his admission of illicit drug usage, dies at age 46. \", \\n        \"print_page\": \"21\", \\n        \"word_count\": \"1027\", \\n        \"_id\": \"56f166f838f0d82d2a6d6042\", \\n        \"snippet\": \"His admission that he used crack cocaine in one of his \\\\u201cdrunken stupors\\\\u201d brought Mr. Ford international notoriety....\", \\n        \"source\": \"The New York Times\", \\n        \"slideshow_credits\": null, \\n        \"web_url\": \"http://www.nytimes.com/2016/03/23/world/americas/rob-ford-dies.html\", \\n        \"multimedia\": [\\n          {\\n            \"subtype\": \"wide\", \\n            \"url\": \"images/2016/03/23/world/23ford-obit-1/23ford-obit-1-thumbWide.jpg\", \\n            \"height\": 126, \\n            \"width\": 190, \\n            \"legacy\": {\\n              \"wide\": \"images/2016/03/23/world/23ford-obit-1/23ford-obit-1-thumbWide.jpg\", \\n              \"wideheight\": \"126\", \\n              \"widewidth\": \"190\"\\n            }, \\n            \"type\": \"image\"\\n          }, \\n          {\\n            \"subtype\": \"xlarge\", \\n            \"url\": \"images/2016/03/23/world/23ford-obit-1/23ford-obit-1-articleLarge.jpg\", \\n            \"height\": 400, \\n            \"width\": 600, \\n            \"legacy\": {\\n              \"xlargewidth\": \"600\", \\n              \"xlarge\": \"images/2016/03/23/world/23ford-obit-1/23ford-obit-1-articleLarge.jpg\", \\n              \"xlargeheight\": \"400\"\\n            }, \\n            \"type\": \"image\"\\n          }, \\n          {\\n            \"subtype\": \"thumbnail\", \\n            \"url\": \"images/2016/03/23/world/23ford-obit-1/23ford-obit-1-thumbStandard.jpg\", \\n            \"height\": 75, \\n            \"width\": 75, \\n            \"legacy\": {\\n              \"thumbnailheight\": \"75\", \\n              \"thumbnail\": \"images/2016/03/23/world/23ford-obit-1/23ford-obit-1-thumbStandard.jpg\", \\n              \"thumbnailwidth\": \"75\"\\n            }, \\n            \"type\": \"image\"\\n          }\\n        ], \\n        \"subsection_name\": \"Americas\", \\n        \"keywords\": [\\n          {\\n            \"value\": \"Deaths (Obituaries)\", \\n            \"is_major\": \"Y\", \\n            \"rank\": \"1\", \\n            \"name\": \"subject\"\\n          }, \\n          {\\n            \"value\": \"Toronto (Ontario)\", \\n            \"is_major\": \"N\", \\n            \"rank\": \"2\", \\n            \"name\": \"glocations\"\\n          }, \\n          {\\n            \"value\": \"Elections, Mayors\", \\n            \"is_major\": \"N\", \\n            \"rank\": \"3\", \\n            \"name\": \"subject\"\\n          }, \\n          {\\n            \"value\": \"Ford, Robert B\", \\n            \"is_major\": \"N\", \\n            \"rank\": \"4\", \\n            \"name\": \"persons\"\\n          }\\n        ], \\n        \"byline\": {\\n          \"person\": [\\n            {\\n              \"organization\": \"\", \\n              \"role\": \"reported\", \\n              \"rank\": 1, \\n              \"firstname\": \"Ian\", \\n              \"lastname\": \"AUSTEN\"\\n            }\\n          ], \\n          \"original\": \"By IAN AUSTEN\"\\n        }, \\n        \"document_type\": \"article\", \\n        \"pub_date\": \"2016-03-23T00:00:00Z\", \\n        \"section_name\": \"World\"\\n      }, \\n      {\\n        \"type_of_material\": \"News\", \\n        \"blog\": [], \\n        \"news_desk\": \"Sports\", \\n        \"lead_paragraph\": \"Toronto, the hub of hockey, moonlights as the continent\\\\u2019s unlikeliest incubator of basketball prodigies, pumping out an extraordinary number of professional players.\", \\n        \"headline\": {\\n          \"seo\": \"Toronto Produces Talent Like Anthony Bennett and Andrew Wiggins\", \\n          \"main\": \"Stardom Without Skates: Toronto Becomes a Hub of Basketball Talent\", \\n          \"print_headline\": \"Stardom Without Skates\"\\n        }, \\n        \"abstract\": \"Several professional basketball players and top prospects are coming from Toronto, an unexpected development for a region known as a hotbed of ice hockey.\", \\n        \"print_page\": null, \\n        \"word_count\": \"2093\", \\n        \"_id\": \"549b175638f0d845e1a76bed\", \\n        \"snippet\": \"Toronto, the hub of hockey, moonlights as the continent\\\\u2019s unlikeliest incubator of basketball prodigies, pumping out an extraordinary number of professional players....\", \\n        \"source\": \"The New York Times\", \\n        \"slideshow_credits\": null, \\n        \"web_url\": \"http://www.nytimes.com/2014/12/25/sports/basketball/in-toronto-a-basketball-boom-north-of-the-border.html\", \\n        \"multimedia\": [\\n          {\\n            \"subtype\": \"wide\", \\n            \"url\": \"images/2014/12/24/sports/TORONTO1/TORONTO1-thumbWide.jpg\", \\n            \"height\": 126, \\n            \"width\": 190, \\n            \"legacy\": {\\n              \"wide\": \"images/2014/12/24/sports/TORONTO1/TORONTO1-thumbWide.jpg\", \\n              \"wideheight\": \"126\", \\n              \"widewidth\": \"190\"\\n            }, \\n            \"type\": \"image\"\\n          }, \\n          {\\n            \"subtype\": \"xlarge\", \\n            \"url\": \"images/2014/12/24/sports/TORONTO1/TORONTO1-articleLarge.jpg\", \\n            \"height\": 400, \\n            \"width\": 600, \\n            \"legacy\": {\\n              \"xlargewidth\": \"600\", \\n              \"xlarge\": \"images/2014/12/24/sports/TORONTO1/TORONTO1-articleLarge.jpg\", \\n              \"xlargeheight\": \"400\"\\n            }, \\n            \"type\": \"image\"\\n          }, \\n          {\\n            \"subtype\": \"thumbnail\", \\n            \"url\": \"images/2014/12/24/sports/TORONTO1/TORONTO1-thumbStandard.jpg\", \\n            \"height\": 75, \\n            \"width\": 75, \\n            \"legacy\": {\\n              \"thumbnailheight\": \"75\", \\n              \"thumbnail\": \"images/2014/12/24/sports/TORONTO1/TORONTO1-thumbStandard.jpg\", \\n              \"thumbnailwidth\": \"75\"\\n            }, \\n            \"type\": \"image\"\\n          }\\n        ], \\n        \"subsection_name\": \"Pro Basketball\", \\n        \"keywords\": [\\n          {\\n            \"value\": \"Basketball\", \\n            \"is_major\": \"Y\", \\n            \"rank\": \"1\", \\n            \"name\": \"subject\"\\n          }, \\n          {\\n            \"value\": \"Toronto (Ontario)\", \\n            \"is_major\": \"Y\", \\n            \"rank\": \"2\", \\n            \"name\": \"glocations\"\\n          }, \\n          {\\n            \"value\": \"Toronto Raptors\", \\n            \"is_major\": \"N\", \\n            \"rank\": \"3\", \\n            \"name\": \"organizations\"\\n          }, \\n          {\\n            \"value\": \"Wiggins, Andrew\", \\n            \"is_major\": \"N\", \\n            \"rank\": \"4\", \\n            \"name\": \"persons\"\\n          }, \\n          {\\n            \"value\": \"Carter, Vince\", \\n            \"is_major\": \"N\", \\n            \"rank\": \"5\", \\n            \"name\": \"persons\"\\n          }, \\n          {\\n            \"value\": \"Murray, Jamal (1997- )\", \\n            \"is_major\": \"N\", \\n            \"rank\": \"6\", \\n            \"name\": \"persons\"\\n          }\\n        ], \\n        \"byline\": {\\n          \"contributor\": \"\", \\n          \"person\": [\\n            {\\n              \"organization\": \"\", \\n              \"role\": \"reported\", \\n              \"rank\": 1, \\n              \"firstname\": \"Scott\", \\n              \"lastname\": \"CACCIOLA\"\\n            }\\n          ], \\n          \"original\": \"By SCOTT CACCIOLA\"\\n        }, \\n        \"document_type\": \"article\", \\n        \"pub_date\": \"2014-12-25T00:00:00Z\", \\n        \"section_name\": \"Sports\"\\n      }, \\n      {\\n        \"type_of_material\": \"News\", \\n        \"blog\": [], \\n        \"news_desk\": \"Foreign\", \\n        \"lead_paragraph\": \"The Liberals&#8217; victory at the polls last month is being seen by many, including immigrants newly elected to Parliament, as affirmation of Canadians&#8217; belief in &#8220;a welcoming and accommodating nation.&#8221;\", \\n        \"headline\": {\\n          \"main\": \"New Crop of Immigrants in Parliament Is Seen as Reflection of Canada\", \\n          \"print_headline\": \"New Crop of Immigrants in Parliament Is Seen as Reflection of Canada\"\\n        }, \\n        \"abstract\": \"Forty-six nonwhite candidates were elected to Canadian Parliament on Oct 19, most of them immigrants; one major factor is seen as anti-Muslim policies of losing Conservative government.\", \\n        \"print_page\": \"12\", \\n        \"word_count\": \"1137\", \\n        \"_id\": \"5639772638f0d8786b6fe3e0\", \\n        \"snippet\": \"The Liberals&#8217; victory at the polls last month is being seen by many, including immigrants newly elected to Parliament, as affirmation of Canadians&#8217; belief in &#8220;a welcoming and accommodating nation.&#8221;...\", \\n        \"source\": \"The New York Times\", \\n        \"slideshow_credits\": null, \\n        \"web_url\": \"http://www.nytimes.com/2015/11/04/world/americas/new-crop-of-immigrants-in-parliament-is-seen-as-reflection-of-canada.html\", \\n        \"multimedia\": [\\n          {\\n            \"subtype\": \"wide\", \\n            \"url\": \"images/2015/11/04/world/04canadaethnic-1/04canadaethnic-1-thumbWide.jpg\", \\n            \"height\": 126, \\n            \"width\": 190, \\n            \"legacy\": {\\n              \"wide\": \"images/2015/11/04/world/04canadaethnic-1/04canadaethnic-1-thumbWide.jpg\", \\n              \"wideheight\": \"126\", \\n              \"widewidth\": \"190\"\\n            }, \\n            \"type\": \"image\"\\n          }, \\n          {\\n            \"subtype\": \"xlarge\", \\n            \"url\": \"images/2015/11/04/world/04canadaethnic-1/04canadaethnic-1-articleLarge.jpg\", \\n            \"height\": 400, \\n            \"width\": 600, \\n            \"legacy\": {\\n              \"xlargewidth\": \"600\", \\n              \"xlarge\": \"images/2015/11/04/world/04canadaethnic-1/04canadaethnic-1-articleLarge.jpg\", \\n              \"xlargeheight\": \"400\"\\n            }, \\n            \"type\": \"image\"\\n          }, \\n          {\\n            \"subtype\": \"thumbnail\", \\n            \"url\": \"images/2015/11/04/world/04canadaethnic-1/04canadaethnic-1-thumbStandard.jpg\", \\n            \"height\": 75, \\n            \"width\": 75, \\n            \"legacy\": {\\n              \"thumbnailheight\": \"75\", \\n              \"thumbnail\": \"images/2015/11/04/world/04canadaethnic-1/04canadaethnic-1-thumbStandard.jpg\", \\n              \"thumbnailwidth\": \"75\"\\n            }, \\n            \"type\": \"image\"\\n          }\\n        ], \\n        \"subsection_name\": \"Americas\", \\n        \"keywords\": [\\n          {\\n            \"value\": \"Canada\", \\n            \"is_major\": \"Y\", \\n            \"rank\": \"1\", \\n            \"name\": \"glocations\"\\n          }, \\n          {\\n            \"value\": \"Muslims and Islam\", \\n            \"is_major\": \"Y\", \\n            \"rank\": \"2\", \\n            \"name\": \"subject\"\\n          }, \\n          {\\n            \"value\": \"Elections\", \\n            \"is_major\": \"N\", \\n            \"rank\": \"3\", \\n            \"name\": \"subject\"\\n          }, \\n          {\\n            \"value\": \"Harper, Stephen J\", \\n            \"is_major\": \"N\", \\n            \"rank\": \"4\", \\n            \"name\": \"persons\"\\n          }, \\n          {\\n            \"value\": \"Trudeau, Justin\", \\n            \"is_major\": \"N\", \\n            \"rank\": \"5\", \\n            \"name\": \"persons\"\\n          }, \\n          {\\n            \"value\": \"Toronto (Ontario)\", \\n            \"is_major\": \"N\", \\n            \"rank\": \"6\", \\n            \"name\": \"glocations\"\\n          }, \\n          {\\n            \"value\": \"Vancouver (British Columbia)\", \\n            \"is_major\": \"N\", \\n            \"rank\": \"7\", \\n            \"name\": \"glocations\"\\n          }, \\n          {\\n            \"value\": \"Uganda\", \\n            \"is_major\": \"N\", \\n            \"rank\": \"8\", \\n            \"name\": \"glocations\"\\n          }, \\n          {\\n            \"value\": \"Trudeau, Pierre Elliott\", \\n            \"is_major\": \"N\", \\n            \"rank\": \"9\", \\n            \"name\": \"persons\"\\n          }, \\n          {\\n            \"value\": \"McGill University\", \\n            \"is_major\": \"N\", \\n            \"rank\": \"10\", \\n            \"name\": \"organizations\"\\n          }\\n        ], \\n        \"byline\": {\\n          \"person\": [\\n            {\\n              \"organization\": \"\", \\n              \"role\": \"reported\", \\n              \"rank\": 1, \\n              \"firstname\": \"Ian\", \\n              \"lastname\": \"AUSTEN\"\\n            }\\n          ], \\n          \"original\": \"By IAN AUSTEN\"\\n        }, \\n        \"document_type\": \"article\", \\n        \"pub_date\": \"2015-11-04T00:00:00Z\", \\n        \"section_name\": \"World\"\\n      }, \\n      {\\n        \"type_of_material\": \"Obituary (Obit)\", \\n        \"blog\": [], \\n        \"news_desk\": \"Sports\", \\n        \"lead_paragraph\": \"Evans, a star halfback, was one of two University of Buffalo players turned down for the Tangerine Bowl after an 8-1 season in 1958. The team rejected the bid.\", \\n        \"headline\": {\\n          \"main\": \"Willie Evans, Who Was Barred From a Bowl Game Because of His Color, Dies at 79\", \\n          \"print_headline\": \"Willie Evans, 79, Player Kept Out of Game Over His Race\"\\n        }, \\n        \"abstract\": null, \\n        \"print_page\": \"5\", \\n        \"word_count\": \"798\", \\n        \"_id\": \"58707a9695d0e03926079748\", \\n        \"snippet\": \"Evans, a star halfback, was one of two University of Buffalo players turned down for the Tangerine Bowl after an 8-1 season in 1958. The team rejected the bid....\", \\n        \"source\": \"The New York Times\", \\n        \"slideshow_credits\": null, \\n        \"web_url\": \"http://www.nytimes.com/2017/01/07/sports/football/willie-evans-dead.html\", \\n        \"multimedia\": [\\n          {\\n            \"subtype\": \"wide\", \\n            \"url\": \"images/2017/01/09/sports/09evans-web/09evans-web-thumbWide.jpg\", \\n            \"height\": 126, \\n            \"width\": 190, \\n            \"legacy\": {\\n              \"wide\": \"images/2017/01/09/sports/09evans-web/09evans-web-thumbWide.jpg\", \\n              \"wideheight\": \"126\", \\n              \"widewidth\": \"190\"\\n            }, \\n            \"type\": \"image\"\\n          }, \\n          {\\n            \"subtype\": \"xlarge\", \\n            \"url\": \"images/2017/01/09/sports/09evans-web/09evans-web-articleLarge.jpg\", \\n            \"height\": 1080, \\n            \"width\": 600, \\n            \"legacy\": {\\n              \"xlargewidth\": \"600\", \\n              \"xlarge\": \"images/2017/01/09/sports/09evans-web/09evans-web-articleLarge.jpg\", \\n              \"xlargeheight\": \"1080\"\\n            }, \\n            \"type\": \"image\"\\n          }, \\n          {\\n            \"subtype\": \"thumbnail\", \\n            \"url\": \"images/2017/01/09/sports/09evans-web/09evans-web-thumbStandard.jpg\", \\n            \"height\": 75, \\n            \"width\": 75, \\n            \"legacy\": {\\n              \"thumbnailheight\": \"75\", \\n              \"thumbnail\": \"images/2017/01/09/sports/09evans-web/09evans-web-thumbStandard.jpg\", \\n              \"thumbnailwidth\": \"75\"\\n            }, \\n            \"type\": \"image\"\\n          }\\n        ], \\n        \"subsection_name\": \"College Football\", \\n        \"keywords\": [\\n          {\\n            \"value\": \"Evans, Willie (1937-2017)\", \\n            \"is_major\": \"N\", \\n            \"rank\": \"1\", \\n            \"name\": \"persons\"\\n          }, \\n          {\\n            \"value\": \"Football (College)\", \\n            \"is_major\": \"N\", \\n            \"rank\": \"2\", \\n            \"name\": \"subject\"\\n          }, \\n          {\\n            \"value\": \"State University of New York at Buffalo\", \\n            \"is_major\": \"N\", \\n            \"rank\": \"3\", \\n            \"name\": \"organizations\"\\n          }, \\n          {\\n            \"value\": \"Blacks\", \\n            \"is_major\": \"N\", \\n            \"rank\": \"4\", \\n            \"name\": \"subject\"\\n          }, \\n          {\\n            \"value\": \"Discrimination\", \\n            \"is_major\": \"N\", \\n            \"rank\": \"5\", \\n            \"name\": \"subject\"\\n          }, \\n          {\\n            \"value\": \"Deaths (Obituaries)\", \\n            \"is_major\": \"N\", \\n            \"rank\": \"6\", \\n            \"name\": \"subject\"\\n          }\\n        ], \\n        \"byline\": {\\n          \"person\": [\\n            {\\n              \"firstname\": \"Daniel\", \\n              \"middlename\": \"E.\", \\n              \"lastname\": \"SLOTNIK\", \\n              \"rank\": 1, \\n              \"role\": \"reported\", \\n              \"organization\": \"\"\\n            }\\n          ], \\n          \"original\": \"By DANIEL E. SLOTNIK\"\\n        }, \\n        \"document_type\": \"article\", \\n        \"pub_date\": \"2017-01-07T05:15:55+0000\", \\n        \"section_name\": \"Sports\"\\n      }, \\n      {\\n        \"type_of_material\": \"News\", \\n        \"blog\": [], \\n        \"news_desk\": \"Sports\", \\n        \"lead_paragraph\": \"As a college assistant, Dwane Casey was punished more severely than the head coach for infractions, but he has forged a career in the N.B.A.\", \\n        \"headline\": {\\n          \"seo\": \"Dwane Casey Still Roots for Kentucky, for Whom He Took a Fall\", \\n          \"main\": \"Looking Back, With Little Hope of Going Back\", \\n          \"kicker\": \"Sports of The Times\", \\n          \"print_headline\": \"Looking Back, With Little Hope Of Going Back\", \\n          \"content_kicker\": \"Sports of The Times\"\\n        }, \\n        \"abstract\": \"William C Rhoden Sports of The Times column profiles Toronto Raptors coach Dwane Casey; says that Casey, who lost his assistant job at Kentucky in 1988 recruiting scandal, has never come close to returning to the college ranks, but continues to remain loyal to his alma mater; notes that Casey is excited for Kentucky, which is preparing for NCAA tournament Final Four.\", \\n        \"print_page\": \"2\", \\n        \"word_count\": \"1264\", \\n        \"_id\": \"515da9a6cf28d0219d0022c6\", \\n        \"snippet\": \"As a college assistant, Dwane Casey was punished more severely than the head coach for infractions, but he has forged a career in the N.B.A....\", \\n        \"source\": \"The New York Times\", \\n        \"slideshow_credits\": null, \\n        \"web_url\": \"http://www.nytimes.com/2012/03/26/sports/basketball/for-former-college-assistant-dwane-casey-scandal-altered-his-career.html\", \\n        \"multimedia\": [\\n          {\\n            \"subtype\": \"thumbnail\", \\n            \"url\": \"images/2012/03/26/sports/baseball/26rhoden-pic/26rhoden-pic-thumbStandard.jpg\", \\n            \"height\": 75, \\n            \"width\": 75, \\n            \"legacy\": {\\n              \"thumbnailheight\": \"75\", \\n              \"thumbnail\": \"images/2012/03/26/sports/baseball/26rhoden-pic/26rhoden-pic-thumbStandard.jpg\", \\n              \"thumbnailwidth\": \"75\"\\n            }, \\n            \"type\": \"image\"\\n          }\\n        ], \\n        \"subsection_name\": \"Pro Basketball\", \\n        \"keywords\": [\\n          {\\n            \"value\": \"University of Kentucky\", \\n            \"is_major\": \"Y\", \\n            \"rank\": \"1\", \\n            \"name\": \"organizations\"\\n          }, \\n          {\\n            \"value\": \"Toronto Raptors\", \\n            \"is_major\": \"Y\", \\n            \"rank\": \"2\", \\n            \"name\": \"organizations\"\\n          }, \\n          {\\n            \"value\": \"Basketball\", \\n            \"is_major\": \"Y\", \\n            \"rank\": \"3\", \\n            \"name\": \"subject\"\\n          }, \\n          {\\n            \"value\": \"Coaches and Managers\", \\n            \"is_major\": \"N\", \\n            \"rank\": \"4\", \\n            \"name\": \"subject\"\\n          }, \\n          {\\n            \"value\": \"Basketball (College)\", \\n            \"is_major\": \"Y\", \\n            \"rank\": \"5\", \\n            \"name\": \"subject\"\\n          }, \\n          {\\n            \"value\": \"NCAA Basketball Championships (Men)\", \\n            \"is_major\": \"Y\", \\n            \"rank\": \"6\", \\n            \"name\": \"subject\"\\n          }, \\n          {\\n            \"value\": \"Draft and Recruitment (Sports)\", \\n            \"is_major\": \"N\", \\n            \"rank\": \"7\", \\n            \"name\": \"subject\"\\n          }, \\n          {\\n            \"value\": \"Casey, Dwane (1957- )\", \\n            \"is_major\": \"N\", \\n            \"rank\": \"8\", \\n            \"name\": \"persons\"\\n          }\\n        ], \\n        \"byline\": {\\n          \"contributor\": \"\", \\n          \"person\": [\\n            {\\n              \"firstname\": \"William\", \\n              \"middlename\": \"C.\", \\n              \"lastname\": \"RHODEN\", \\n              \"rank\": 1, \\n              \"role\": \"reported\", \\n              \"organization\": \"\"\\n            }\\n          ], \\n          \"original\": \"By WILLIAM C. RHODEN\"\\n        }, \\n        \"document_type\": \"article\", \\n        \"pub_date\": \"2012-03-26T00:00:00Z\", \\n        \"section_name\": \"Sports\"\\n      }, \\n      {\\n        \"type_of_material\": \"Blog\", \\n        \"blog\": [], \\n        \"news_desk\": null, \\n        \"lead_paragraph\": null, \\n        \"headline\": {\\n          \"main\": \"In Toronto, Filmmakers Show Support for Canadians Detained in Egypt\", \\n          \"kicker\": \"ArtsBeat\", \\n          \"print_headline\": \"Filmmakers Seek Release Of Detainees in Egypt\"\\n        }, \\n        \"abstract\": \"Atom Egoyan, Sarah Polley and Alex Gibney speak out on behalf of two Canadians being held in Cairo.\", \\n        \"print_page\": null, \\n        \"word_count\": \"284\", \\n        \"_id\": \"523080fe38f0d8268895f04b\", \\n        \"snippet\": \"Atom Egoyan, Sarah Polley and Alex Gibney speak out on behalf of two Canadians being held in Cairo....\", \\n        \"source\": \"The New York Times\", \\n        \"slideshow_credits\": null, \\n        \"web_url\": \"http://artsbeat.blogs.nytimes.com/2013/09/10/in-toronto-filmmakers-show-support-for-canadians-detained-in-egypt/\", \\n        \"multimedia\": [], \\n        \"subsection_name\": null, \\n        \"keywords\": [\\n          {\\n            \"value\": \"Movies\", \\n            \"is_major\": \"Y\", \\n            \"rank\": \"1\", \\n            \"name\": \"subject\"\\n          }, \\n          {\\n            \"value\": \"Toronto International Film Festival\", \\n            \"is_major\": \"Y\", \\n            \"rank\": \"2\", \\n            \"name\": \"subject\"\\n          }, \\n          {\\n            \"value\": \"Egypt\", \\n            \"is_major\": \"Y\", \\n            \"rank\": \"3\", \\n            \"name\": \"glocations\"\\n          }, \\n          {\\n            \"value\": \"Egoyan, Atom\", \\n            \"name\": \"persons\", \\n            \"rank\": \"1\"\\n          }, \\n          {\\n            \"value\": \"Gibney, Alex\", \\n            \"name\": \"persons\", \\n            \"rank\": \"2\"\\n          }, \\n          {\\n            \"value\": \"Polley, Sarah\", \\n            \"name\": \"persons\", \\n            \"rank\": \"3\"\\n          }\\n        ], \\n        \"byline\": {\\n          \"person\": [\\n            {\\n              \"organization\": \"\", \\n              \"role\": \"reported\", \\n              \"rank\": 1, \\n              \"firstname\": \"Michael\", \\n              \"lastname\": \"CIEPLY\"\\n            }\\n          ], \\n          \"original\": \"By MICHAEL CIEPLY\"\\n        }, \\n        \"document_type\": \"blogpost\", \\n        \"pub_date\": \"2013-09-10T11:44:35Z\", \\n        \"section_name\": \"Arts\"\\n      }\\n    ], \\n    \"facets\": {\\n      \"source\": {\\n        \"terms\": [\\n          {\\n            \"count\": 265, \\n            \"term\": \"The New York Times\"\\n          }, \\n          {\\n            \"count\": 46, \\n            \"term\": \"AP\"\\n          }, \\n          {\\n            \"count\": 33, \\n            \"term\": \"Reuters\"\\n          }\\n        ]\\n      }, \\n      \"day_of_week\": {\\n        \"terms\": [\\n          {\\n            \"count\": 57, \\n            \"term\": \"Tuesday\"\\n          }, \\n          {\\n            \"count\": 55, \\n            \"term\": \"Wednesday\"\\n          }, \\n          {\\n            \"count\": 53, \\n            \"term\": \"Sunday\"\\n          }, \\n          {\\n            \"count\": 52, \\n            \"term\": \"Monday\"\\n          }, \\n          {\\n            \"count\": 52, \\n            \"term\": \"Thursday\"\\n          }\\n        ]\\n      }\\n    }, \\n    \"meta\": {\\n      \"hits\": 344, \\n      \"offset\": 0, \\n      \"time\": 216\\n    }\\n  }, \\n  \"copyright\": \"Copyright (c) 2013 The New York Times Company.  All Rights Reserved.\"\\n}'"
      ]
     },
     "execution_count": 200,
     "metadata": {},
     "output_type": "execute_result"
    }
   ],
   "source": [
    "json.dumps(articles,indent=2)"
   ]
  },
  {
   "cell_type": "markdown",
   "metadata": {},
   "source": [
    "encode in .json formate"
   ]
  },
  {
   "cell_type": "markdown",
   "metadata": {},
   "source": [
    "The next cell is used to save all the results we get from NYTimesAPI into a .json file."
   ]
  },
  {
   "cell_type": "code",
   "execution_count": 201,
   "metadata": {
    "collapsed": false
   },
   "outputs": [],
   "source": [
    " with open('results.json', 'w') as f:  \n",
    "        f.write(json.dumps(articles,indent = 2,skipkeys = True))  "
   ]
  },
  {
   "cell_type": "markdown",
   "metadata": {},
   "source": [
    "The next cell is used to convert .json file into .csv file"
   ]
  },
  {
   "cell_type": "code",
   "execution_count": 190,
   "metadata": {
    "collapsed": true
   },
   "outputs": [],
   "source": [
    "import csv\n",
    "import json\n",
    "import sys\n",
    "reload(sys)\n",
    "sys.setdefaultencoding('utf-8')\n",
    "\n",
    "def write_csv(data, filename):\n",
    "\twith open(filename, 'w') as outf:\n",
    "\t\tresult = True\n",
    "\t\tfor item in data:\n",
    "\t\t\twritter = csv.DictWriter(outf, item.keys(),extrasaction='ignore')\n",
    "\t\t\tif result == True:\n",
    "\t\t\t\twritter.writeheader()\n",
    "\t\t\t\tresult = False\n",
    "\t\t\telse:\n",
    "\t\t\t\twritter.writerow(item)\n",
    "\n",
    "\n",
    "\n",
    "data = json.loads(open('results.json').read())\n",
    "data = data['response']['docs']\n",
    "write_csv(data,'results.csv')\n"
   ]
  },
  {
   "cell_type": "code",
   "execution_count": 204,
   "metadata": {
    "collapsed": false
   },
   "outputs": [
    {
     "data": {
      "text/html": [
       "<div>\n",
       "<table border=\"1\" class=\"dataframe\">\n",
       "  <thead>\n",
       "    <tr style=\"text-align: right;\">\n",
       "      <th></th>\n",
       "      <th>type_of_material</th>\n",
       "      <th>snippet</th>\n",
       "      <th>news_desk</th>\n",
       "      <th>lead_paragraph</th>\n",
       "      <th>headline</th>\n",
       "      <th>pub_date</th>\n",
       "      <th>abstract</th>\n",
       "      <th>print_page</th>\n",
       "      <th>word_count</th>\n",
       "      <th>document_type</th>\n",
       "      <th>blog</th>\n",
       "      <th>source</th>\n",
       "      <th>slideshow_credits</th>\n",
       "      <th>web_url</th>\n",
       "      <th>multimedia</th>\n",
       "      <th>keywords</th>\n",
       "      <th>subsection_name</th>\n",
       "      <th>_id</th>\n",
       "      <th>byline</th>\n",
       "      <th>section_name</th>\n",
       "    </tr>\n",
       "  </thead>\n",
       "  <tbody>\n",
       "    <tr>\n",
       "      <th>0</th>\n",
       "      <td>News</td>\n",
       "      <td>A 25-year study involving 90,000 women has fou...</td>\n",
       "      <td>Foreign</td>\n",
       "      <td>A 25-year study involving 90,000 women has fou...</td>\n",
       "      <td>{u'main': u'Vast Study Casts Doubts on Value o...</td>\n",
       "      <td>2014-02-12T00:00:00Z</td>\n",
       "      <td>Study published in The British Medical Journal...</td>\n",
       "      <td>1.0</td>\n",
       "      <td>1101</td>\n",
       "      <td>article</td>\n",
       "      <td>[]</td>\n",
       "      <td>The New York Times</td>\n",
       "      <td>NaN</td>\n",
       "      <td>http://www.nytimes.com/2014/02/12/health/study...</td>\n",
       "      <td>[{u'width': 190, u'url': u'images/2014/02/12/w...</td>\n",
       "      <td>[{u'rank': u'5', u'is_major': u'Y', u'value': ...</td>\n",
       "      <td>NaN</td>\n",
       "      <td>52fab5e438f0d812174ee979</td>\n",
       "      <td>{u'contributor': u'', u'person': [{u'organizat...</td>\n",
       "      <td>Health</td>\n",
       "    </tr>\n",
       "    <tr>\n",
       "      <th>1</th>\n",
       "      <td>News</td>\n",
       "      <td>Columbus defeated Edmonton, 3-1, and can now t...</td>\n",
       "      <td>Sports</td>\n",
       "      <td>Columbus defeated Edmonton, 3-1, and can now t...</td>\n",
       "      <td>{u'main': u'Blue Jackets\\u2019 Win Streak Reac...</td>\n",
       "      <td>2017-01-04T05:15:02+0000</td>\n",
       "      <td>NaN</td>\n",
       "      <td>10.0</td>\n",
       "      <td>597</td>\n",
       "      <td>article</td>\n",
       "      <td>[]</td>\n",
       "      <td>The New York Times</td>\n",
       "      <td>NaN</td>\n",
       "      <td>http://www.nytimes.com/2017/01/04/sports/blue-...</td>\n",
       "      <td>[]</td>\n",
       "      <td>[{u'rank': u'1', u'is_major': u'N', u'value': ...</td>\n",
       "      <td>NaN</td>\n",
       "      <td>586c84d995d0e03926078dae</td>\n",
       "      <td>{u'person': [], u'original': u'By THE ASSOCIAT...</td>\n",
       "      <td>Sports</td>\n",
       "    </tr>\n",
       "    <tr>\n",
       "      <th>2</th>\n",
       "      <td>News</td>\n",
       "      <td>A video being shopped by two men with drug con...</td>\n",
       "      <td>Foreign</td>\n",
       "      <td>A video being shopped by two men with drug con...</td>\n",
       "      <td>{u'seo': u'Toronto Mayor Is Accused of Using C...</td>\n",
       "      <td>2013-05-18T00:00:00Z</td>\n",
       "      <td>Toronto Mayor Rob Ford, who has long been dogg...</td>\n",
       "      <td>6.0</td>\n",
       "      <td>819</td>\n",
       "      <td>article</td>\n",
       "      <td>[]</td>\n",
       "      <td>The New York Times</td>\n",
       "      <td>NaN</td>\n",
       "      <td>http://www.nytimes.com/2013/05/18/world/americ...</td>\n",
       "      <td>[{u'width': 190, u'url': u'images/2013/05/18/w...</td>\n",
       "      <td>[{u'rank': u'1', u'is_major': u'Y', u'value': ...</td>\n",
       "      <td>Americas</td>\n",
       "      <td>5196d8b840e9ec457e2a20d2</td>\n",
       "      <td>{u'contributor': u'', u'person': [{u'organizat...</td>\n",
       "      <td>World</td>\n",
       "    </tr>\n",
       "    <tr>\n",
       "      <th>3</th>\n",
       "      <td>Obituary</td>\n",
       "      <td>His admission that he used crack cocaine in on...</td>\n",
       "      <td>Foreign</td>\n",
       "      <td>His admission that he used crack cocaine in on...</td>\n",
       "      <td>{u'main': u'Rob Ford, Blustery Ex-Mayor of Tor...</td>\n",
       "      <td>2016-03-23T00:00:00Z</td>\n",
       "      <td>Rob Ford, polarizing former mayor of Toronto w...</td>\n",
       "      <td>21.0</td>\n",
       "      <td>1027</td>\n",
       "      <td>article</td>\n",
       "      <td>[]</td>\n",
       "      <td>The New York Times</td>\n",
       "      <td>NaN</td>\n",
       "      <td>http://www.nytimes.com/2016/03/23/world/americ...</td>\n",
       "      <td>[{u'width': 190, u'url': u'images/2016/03/23/w...</td>\n",
       "      <td>[{u'rank': u'1', u'is_major': u'Y', u'value': ...</td>\n",
       "      <td>Americas</td>\n",
       "      <td>56f166f838f0d82d2a6d6042</td>\n",
       "      <td>{u'person': [{u'organization': u'', u'role': u...</td>\n",
       "      <td>World</td>\n",
       "    </tr>\n",
       "    <tr>\n",
       "      <th>4</th>\n",
       "      <td>News</td>\n",
       "      <td>Toronto, the hub of hockey, moonlights as the ...</td>\n",
       "      <td>Sports</td>\n",
       "      <td>Toronto, the hub of hockey, moonlights as the ...</td>\n",
       "      <td>{u'seo': u'Toronto Produces Talent Like Anthon...</td>\n",
       "      <td>2014-12-25T00:00:00Z</td>\n",
       "      <td>Several professional basketball players and to...</td>\n",
       "      <td>NaN</td>\n",
       "      <td>2093</td>\n",
       "      <td>article</td>\n",
       "      <td>[]</td>\n",
       "      <td>The New York Times</td>\n",
       "      <td>NaN</td>\n",
       "      <td>http://www.nytimes.com/2014/12/25/sports/baske...</td>\n",
       "      <td>[{u'width': 190, u'url': u'images/2014/12/24/s...</td>\n",
       "      <td>[{u'rank': u'1', u'is_major': u'Y', u'value': ...</td>\n",
       "      <td>Pro Basketball</td>\n",
       "      <td>549b175638f0d845e1a76bed</td>\n",
       "      <td>{u'contributor': u'', u'person': [{u'organizat...</td>\n",
       "      <td>Sports</td>\n",
       "    </tr>\n",
       "    <tr>\n",
       "      <th>5</th>\n",
       "      <td>News</td>\n",
       "      <td>The Liberals&amp;#8217; victory at the polls last ...</td>\n",
       "      <td>Foreign</td>\n",
       "      <td>The Liberals&amp;#8217; victory at the polls last ...</td>\n",
       "      <td>{u'main': u'New Crop of Immigrants in Parliame...</td>\n",
       "      <td>2015-11-04T00:00:00Z</td>\n",
       "      <td>Forty-six nonwhite candidates were elected to ...</td>\n",
       "      <td>12.0</td>\n",
       "      <td>1137</td>\n",
       "      <td>article</td>\n",
       "      <td>[]</td>\n",
       "      <td>The New York Times</td>\n",
       "      <td>NaN</td>\n",
       "      <td>http://www.nytimes.com/2015/11/04/world/americ...</td>\n",
       "      <td>[{u'width': 190, u'url': u'images/2015/11/04/w...</td>\n",
       "      <td>[{u'rank': u'1', u'is_major': u'Y', u'value': ...</td>\n",
       "      <td>Americas</td>\n",
       "      <td>5639772638f0d8786b6fe3e0</td>\n",
       "      <td>{u'person': [{u'organization': u'', u'role': u...</td>\n",
       "      <td>World</td>\n",
       "    </tr>\n",
       "    <tr>\n",
       "      <th>6</th>\n",
       "      <td>Obituary (Obit)</td>\n",
       "      <td>Evans, a star halfback, was one of two Univers...</td>\n",
       "      <td>Sports</td>\n",
       "      <td>Evans, a star halfback, was one of two Univers...</td>\n",
       "      <td>{u'main': u'Willie Evans, Who Was Barred From ...</td>\n",
       "      <td>2017-01-07T05:15:55+0000</td>\n",
       "      <td>NaN</td>\n",
       "      <td>5.0</td>\n",
       "      <td>798</td>\n",
       "      <td>article</td>\n",
       "      <td>[]</td>\n",
       "      <td>The New York Times</td>\n",
       "      <td>NaN</td>\n",
       "      <td>http://www.nytimes.com/2017/01/07/sports/footb...</td>\n",
       "      <td>[{u'width': 190, u'url': u'images/2017/01/09/s...</td>\n",
       "      <td>[{u'rank': u'1', u'is_major': u'N', u'value': ...</td>\n",
       "      <td>College Football</td>\n",
       "      <td>58707a9695d0e03926079748</td>\n",
       "      <td>{u'person': [{u'firstname': u'Daniel', u'middl...</td>\n",
       "      <td>Sports</td>\n",
       "    </tr>\n",
       "    <tr>\n",
       "      <th>7</th>\n",
       "      <td>News</td>\n",
       "      <td>As a college assistant, Dwane Casey was punish...</td>\n",
       "      <td>Sports</td>\n",
       "      <td>As a college assistant, Dwane Casey was punish...</td>\n",
       "      <td>{u'seo': u'Dwane Casey Still Roots for Kentuck...</td>\n",
       "      <td>2012-03-26T00:00:00Z</td>\n",
       "      <td>William C Rhoden Sports of The Times column pr...</td>\n",
       "      <td>2.0</td>\n",
       "      <td>1264</td>\n",
       "      <td>article</td>\n",
       "      <td>[]</td>\n",
       "      <td>The New York Times</td>\n",
       "      <td>NaN</td>\n",
       "      <td>http://www.nytimes.com/2012/03/26/sports/baske...</td>\n",
       "      <td>[{u'width': 75, u'url': u'images/2012/03/26/sp...</td>\n",
       "      <td>[{u'rank': u'1', u'is_major': u'Y', u'value': ...</td>\n",
       "      <td>Pro Basketball</td>\n",
       "      <td>515da9a6cf28d0219d0022c6</td>\n",
       "      <td>{u'contributor': u'', u'person': [{u'firstname...</td>\n",
       "      <td>Sports</td>\n",
       "    </tr>\n",
       "    <tr>\n",
       "      <th>8</th>\n",
       "      <td>Blog</td>\n",
       "      <td>Atom Egoyan, Sarah Polley and Alex Gibney spea...</td>\n",
       "      <td>NaN</td>\n",
       "      <td>NaN</td>\n",
       "      <td>{u'main': u'In Toronto, Filmmakers Show Suppor...</td>\n",
       "      <td>2013-09-10T11:44:35Z</td>\n",
       "      <td>Atom Egoyan, Sarah Polley and Alex Gibney spea...</td>\n",
       "      <td>NaN</td>\n",
       "      <td>284</td>\n",
       "      <td>blogpost</td>\n",
       "      <td>[]</td>\n",
       "      <td>The New York Times</td>\n",
       "      <td>NaN</td>\n",
       "      <td>http://artsbeat.blogs.nytimes.com/2013/09/10/i...</td>\n",
       "      <td>[]</td>\n",
       "      <td>[{u'rank': u'1', u'is_major': u'Y', u'value': ...</td>\n",
       "      <td>NaN</td>\n",
       "      <td>523080fe38f0d8268895f04b</td>\n",
       "      <td>{u'person': [{u'organization': u'', u'role': u...</td>\n",
       "      <td>Arts</td>\n",
       "    </tr>\n",
       "  </tbody>\n",
       "</table>\n",
       "</div>"
      ],
      "text/plain": [
       "  type_of_material                                            snippet  \\\n",
       "0             News  A 25-year study involving 90,000 women has fou...   \n",
       "1             News  Columbus defeated Edmonton, 3-1, and can now t...   \n",
       "2             News  A video being shopped by two men with drug con...   \n",
       "3         Obituary  His admission that he used crack cocaine in on...   \n",
       "4             News  Toronto, the hub of hockey, moonlights as the ...   \n",
       "5             News  The Liberals&#8217; victory at the polls last ...   \n",
       "6  Obituary (Obit)  Evans, a star halfback, was one of two Univers...   \n",
       "7             News  As a college assistant, Dwane Casey was punish...   \n",
       "8             Blog  Atom Egoyan, Sarah Polley and Alex Gibney spea...   \n",
       "\n",
       "  news_desk                                     lead_paragraph  \\\n",
       "0   Foreign  A 25-year study involving 90,000 women has fou...   \n",
       "1    Sports  Columbus defeated Edmonton, 3-1, and can now t...   \n",
       "2   Foreign  A video being shopped by two men with drug con...   \n",
       "3   Foreign  His admission that he used crack cocaine in on...   \n",
       "4    Sports  Toronto, the hub of hockey, moonlights as the ...   \n",
       "5   Foreign  The Liberals&#8217; victory at the polls last ...   \n",
       "6    Sports  Evans, a star halfback, was one of two Univers...   \n",
       "7    Sports  As a college assistant, Dwane Casey was punish...   \n",
       "8       NaN                                                NaN   \n",
       "\n",
       "                                            headline  \\\n",
       "0  {u'main': u'Vast Study Casts Doubts on Value o...   \n",
       "1  {u'main': u'Blue Jackets\\u2019 Win Streak Reac...   \n",
       "2  {u'seo': u'Toronto Mayor Is Accused of Using C...   \n",
       "3  {u'main': u'Rob Ford, Blustery Ex-Mayor of Tor...   \n",
       "4  {u'seo': u'Toronto Produces Talent Like Anthon...   \n",
       "5  {u'main': u'New Crop of Immigrants in Parliame...   \n",
       "6  {u'main': u'Willie Evans, Who Was Barred From ...   \n",
       "7  {u'seo': u'Dwane Casey Still Roots for Kentuck...   \n",
       "8  {u'main': u'In Toronto, Filmmakers Show Suppor...   \n",
       "\n",
       "                   pub_date  \\\n",
       "0      2014-02-12T00:00:00Z   \n",
       "1  2017-01-04T05:15:02+0000   \n",
       "2      2013-05-18T00:00:00Z   \n",
       "3      2016-03-23T00:00:00Z   \n",
       "4      2014-12-25T00:00:00Z   \n",
       "5      2015-11-04T00:00:00Z   \n",
       "6  2017-01-07T05:15:55+0000   \n",
       "7      2012-03-26T00:00:00Z   \n",
       "8      2013-09-10T11:44:35Z   \n",
       "\n",
       "                                            abstract  print_page  word_count  \\\n",
       "0  Study published in The British Medical Journal...         1.0        1101   \n",
       "1                                                NaN        10.0         597   \n",
       "2  Toronto Mayor Rob Ford, who has long been dogg...         6.0         819   \n",
       "3  Rob Ford, polarizing former mayor of Toronto w...        21.0        1027   \n",
       "4  Several professional basketball players and to...         NaN        2093   \n",
       "5  Forty-six nonwhite candidates were elected to ...        12.0        1137   \n",
       "6                                                NaN         5.0         798   \n",
       "7  William C Rhoden Sports of The Times column pr...         2.0        1264   \n",
       "8  Atom Egoyan, Sarah Polley and Alex Gibney spea...         NaN         284   \n",
       "\n",
       "  document_type blog              source  slideshow_credits  \\\n",
       "0       article   []  The New York Times                NaN   \n",
       "1       article   []  The New York Times                NaN   \n",
       "2       article   []  The New York Times                NaN   \n",
       "3       article   []  The New York Times                NaN   \n",
       "4       article   []  The New York Times                NaN   \n",
       "5       article   []  The New York Times                NaN   \n",
       "6       article   []  The New York Times                NaN   \n",
       "7       article   []  The New York Times                NaN   \n",
       "8      blogpost   []  The New York Times                NaN   \n",
       "\n",
       "                                             web_url  \\\n",
       "0  http://www.nytimes.com/2014/02/12/health/study...   \n",
       "1  http://www.nytimes.com/2017/01/04/sports/blue-...   \n",
       "2  http://www.nytimes.com/2013/05/18/world/americ...   \n",
       "3  http://www.nytimes.com/2016/03/23/world/americ...   \n",
       "4  http://www.nytimes.com/2014/12/25/sports/baske...   \n",
       "5  http://www.nytimes.com/2015/11/04/world/americ...   \n",
       "6  http://www.nytimes.com/2017/01/07/sports/footb...   \n",
       "7  http://www.nytimes.com/2012/03/26/sports/baske...   \n",
       "8  http://artsbeat.blogs.nytimes.com/2013/09/10/i...   \n",
       "\n",
       "                                          multimedia  \\\n",
       "0  [{u'width': 190, u'url': u'images/2014/02/12/w...   \n",
       "1                                                 []   \n",
       "2  [{u'width': 190, u'url': u'images/2013/05/18/w...   \n",
       "3  [{u'width': 190, u'url': u'images/2016/03/23/w...   \n",
       "4  [{u'width': 190, u'url': u'images/2014/12/24/s...   \n",
       "5  [{u'width': 190, u'url': u'images/2015/11/04/w...   \n",
       "6  [{u'width': 190, u'url': u'images/2017/01/09/s...   \n",
       "7  [{u'width': 75, u'url': u'images/2012/03/26/sp...   \n",
       "8                                                 []   \n",
       "\n",
       "                                            keywords   subsection_name  \\\n",
       "0  [{u'rank': u'5', u'is_major': u'Y', u'value': ...               NaN   \n",
       "1  [{u'rank': u'1', u'is_major': u'N', u'value': ...               NaN   \n",
       "2  [{u'rank': u'1', u'is_major': u'Y', u'value': ...          Americas   \n",
       "3  [{u'rank': u'1', u'is_major': u'Y', u'value': ...          Americas   \n",
       "4  [{u'rank': u'1', u'is_major': u'Y', u'value': ...    Pro Basketball   \n",
       "5  [{u'rank': u'1', u'is_major': u'Y', u'value': ...          Americas   \n",
       "6  [{u'rank': u'1', u'is_major': u'N', u'value': ...  College Football   \n",
       "7  [{u'rank': u'1', u'is_major': u'Y', u'value': ...    Pro Basketball   \n",
       "8  [{u'rank': u'1', u'is_major': u'Y', u'value': ...               NaN   \n",
       "\n",
       "                        _id  \\\n",
       "0  52fab5e438f0d812174ee979   \n",
       "1  586c84d995d0e03926078dae   \n",
       "2  5196d8b840e9ec457e2a20d2   \n",
       "3  56f166f838f0d82d2a6d6042   \n",
       "4  549b175638f0d845e1a76bed   \n",
       "5  5639772638f0d8786b6fe3e0   \n",
       "6  58707a9695d0e03926079748   \n",
       "7  515da9a6cf28d0219d0022c6   \n",
       "8  523080fe38f0d8268895f04b   \n",
       "\n",
       "                                              byline section_name  \n",
       "0  {u'contributor': u'', u'person': [{u'organizat...       Health  \n",
       "1  {u'person': [], u'original': u'By THE ASSOCIAT...       Sports  \n",
       "2  {u'contributor': u'', u'person': [{u'organizat...        World  \n",
       "3  {u'person': [{u'organization': u'', u'role': u...        World  \n",
       "4  {u'contributor': u'', u'person': [{u'organizat...       Sports  \n",
       "5  {u'person': [{u'organization': u'', u'role': u...        World  \n",
       "6  {u'person': [{u'firstname': u'Daniel', u'middl...       Sports  \n",
       "7  {u'contributor': u'', u'person': [{u'firstname...       Sports  \n",
       "8  {u'person': [{u'organization': u'', u'role': u...         Arts  "
      ]
     },
     "execution_count": 204,
     "metadata": {},
     "output_type": "execute_result"
    }
   ],
   "source": [
    "import pandas as pd\n",
    "form = pd.read_csv(\"results.csv\")\n",
    "form"
   ]
  },
  {
   "cell_type": "markdown",
   "metadata": {},
   "source": [
    "the next few cells are just stupid mistakes I made during debuging. Just run all the codes above and you will get the result."
   ]
  },
  {
   "cell_type": "code",
   "execution_count": 141,
   "metadata": {
    "collapsed": false
   },
   "outputs": [],
   "source": [
    "import csv\n",
    "import json\n",
    "def read_json(filename):\n",
    "\treturn json.loads(open(filename).read())"
   ]
  },
  {
   "cell_type": "code",
   "execution_count": 158,
   "metadata": {
    "collapsed": false
   },
   "outputs": [],
   "source": [
    "def write_csv(data, filename):\n",
    "\twith open(filename, 'w') as outf:\n",
    "\t\tdw = csv.DictWriter(outf, data[0].keys(),extrasaction='ignore')\n",
    "\t\tdw.writeheader()\n",
    "\t\tfor row in data:\n",
    "\t\t\tdw.writerows(rows)"
   ]
  },
  {
   "cell_type": "code",
   "execution_count": 155,
   "metadata": {
    "collapsed": false
   },
   "outputs": [
    {
     "name": "stdout",
     "output_type": "stream",
     "text": [
      "[u'docs', u'meta']\n"
     ]
    }
   ],
   "source": [
    "x = read_json('results.json')\n",
    "print x['response'].keys()"
   ]
  },
  {
   "cell_type": "code",
   "execution_count": 178,
   "metadata": {
    "collapsed": false,
    "scrolled": true
   },
   "outputs": [
    {
     "ename": "AttributeError",
     "evalue": "'str' object has no attribute 'get'",
     "output_type": "error",
     "traceback": [
      "\u001b[0;31m---------------------------------------------------------------------------\u001b[0m",
      "\u001b[0;31mAttributeError\u001b[0m                            Traceback (most recent call last)",
      "\u001b[0;32m<ipython-input-178-b060617c5365>\u001b[0m in \u001b[0;36m<module>\u001b[0;34m()\u001b[0m\n\u001b[0;32m----> 1\u001b[0;31m \u001b[0mwrite_csv\u001b[0m\u001b[0;34m(\u001b[0m\u001b[0mread_json\u001b[0m\u001b[0;34m(\u001b[0m\u001b[0;34m'results.json'\u001b[0m\u001b[0;34m)\u001b[0m\u001b[0;34m,\u001b[0m \u001b[0;34m'results.csv'\u001b[0m\u001b[0;34m)\u001b[0m\u001b[0;34m\u001b[0m\u001b[0m\n\u001b[0m",
      "\u001b[0;32m<ipython-input-175-0c21d3f83331>\u001b[0m in \u001b[0;36mwrite_csv\u001b[0;34m(data, filename)\u001b[0m\n\u001b[1;32m     12\u001b[0m                 \u001b[0;32mfor\u001b[0m \u001b[0mrow\u001b[0m \u001b[0;32min\u001b[0m \u001b[0mdata\u001b[0m\u001b[0;34m:\u001b[0m\u001b[0;34m\u001b[0m\u001b[0m\n\u001b[1;32m     13\u001b[0m                         \u001b[0mlist1\u001b[0m \u001b[0;34m=\u001b[0m \u001b[0mlist\u001b[0m\u001b[0;34m(\u001b[0m\u001b[0mrow\u001b[0m\u001b[0;34m)\u001b[0m\u001b[0;34m\u001b[0m\u001b[0m\n\u001b[0;32m---> 14\u001b[0;31m                         \u001b[0mdw\u001b[0m\u001b[0;34m.\u001b[0m\u001b[0mwriterows\u001b[0m\u001b[0;34m(\u001b[0m\u001b[0mlist1\u001b[0m\u001b[0;34m)\u001b[0m\u001b[0;34m\u001b[0m\u001b[0m\n\u001b[0m\u001b[1;32m     15\u001b[0m \u001b[0;32mdef\u001b[0m \u001b[0mflattenjson\u001b[0m\u001b[0;34m(\u001b[0m \u001b[0mb\u001b[0m\u001b[0;34m,\u001b[0m \u001b[0mdelim\u001b[0m \u001b[0;34m)\u001b[0m\u001b[0;34m:\u001b[0m\u001b[0;34m\u001b[0m\u001b[0m\n\u001b[1;32m     16\u001b[0m     \u001b[0mval\u001b[0m \u001b[0;34m=\u001b[0m \u001b[0;34m{\u001b[0m\u001b[0;34m}\u001b[0m\u001b[0;34m\u001b[0m\u001b[0m\n",
      "\u001b[0;32m/Users/hanpoleon/anaconda/lib/python2.7/csv.pyc\u001b[0m in \u001b[0;36mwriterows\u001b[0;34m(self, rowdicts)\u001b[0m\n\u001b[1;32m    155\u001b[0m         \u001b[0mrows\u001b[0m \u001b[0;34m=\u001b[0m \u001b[0;34m[\u001b[0m\u001b[0;34m]\u001b[0m\u001b[0;34m\u001b[0m\u001b[0m\n\u001b[1;32m    156\u001b[0m         \u001b[0;32mfor\u001b[0m \u001b[0mrowdict\u001b[0m \u001b[0;32min\u001b[0m \u001b[0mrowdicts\u001b[0m\u001b[0;34m:\u001b[0m\u001b[0;34m\u001b[0m\u001b[0m\n\u001b[0;32m--> 157\u001b[0;31m             \u001b[0mrows\u001b[0m\u001b[0;34m.\u001b[0m\u001b[0mappend\u001b[0m\u001b[0;34m(\u001b[0m\u001b[0mself\u001b[0m\u001b[0;34m.\u001b[0m\u001b[0m_dict_to_list\u001b[0m\u001b[0;34m(\u001b[0m\u001b[0mrowdict\u001b[0m\u001b[0;34m)\u001b[0m\u001b[0;34m)\u001b[0m\u001b[0;34m\u001b[0m\u001b[0m\n\u001b[0m\u001b[1;32m    158\u001b[0m         \u001b[0;32mreturn\u001b[0m \u001b[0mself\u001b[0m\u001b[0;34m.\u001b[0m\u001b[0mwriter\u001b[0m\u001b[0;34m.\u001b[0m\u001b[0mwriterows\u001b[0m\u001b[0;34m(\u001b[0m\u001b[0mrows\u001b[0m\u001b[0;34m)\u001b[0m\u001b[0;34m\u001b[0m\u001b[0m\n\u001b[1;32m    159\u001b[0m \u001b[0;34m\u001b[0m\u001b[0m\n",
      "\u001b[0;32m/Users/hanpoleon/anaconda/lib/python2.7/csv.pyc\u001b[0m in \u001b[0;36m_dict_to_list\u001b[0;34m(self, rowdict)\u001b[0m\n\u001b[1;32m    147\u001b[0m                 raise ValueError(\"dict contains fields not in fieldnames: \"\n\u001b[1;32m    148\u001b[0m                                  + \", \".join([repr(x) for x in wrong_fields]))\n\u001b[0;32m--> 149\u001b[0;31m         \u001b[0;32mreturn\u001b[0m \u001b[0;34m[\u001b[0m\u001b[0mrowdict\u001b[0m\u001b[0;34m.\u001b[0m\u001b[0mget\u001b[0m\u001b[0;34m(\u001b[0m\u001b[0mkey\u001b[0m\u001b[0;34m,\u001b[0m \u001b[0mself\u001b[0m\u001b[0;34m.\u001b[0m\u001b[0mrestval\u001b[0m\u001b[0;34m)\u001b[0m \u001b[0;32mfor\u001b[0m \u001b[0mkey\u001b[0m \u001b[0;32min\u001b[0m \u001b[0mself\u001b[0m\u001b[0;34m.\u001b[0m\u001b[0mfieldnames\u001b[0m\u001b[0;34m]\u001b[0m\u001b[0;34m\u001b[0m\u001b[0m\n\u001b[0m\u001b[1;32m    150\u001b[0m \u001b[0;34m\u001b[0m\u001b[0m\n\u001b[1;32m    151\u001b[0m     \u001b[0;32mdef\u001b[0m \u001b[0mwriterow\u001b[0m\u001b[0;34m(\u001b[0m\u001b[0mself\u001b[0m\u001b[0;34m,\u001b[0m \u001b[0mrowdict\u001b[0m\u001b[0;34m)\u001b[0m\u001b[0;34m:\u001b[0m\u001b[0;34m\u001b[0m\u001b[0m\n",
      "\u001b[0;31mAttributeError\u001b[0m: 'str' object has no attribute 'get'"
     ]
    }
   ],
   "source": [
    "write_csv(read_json('results.json'), 'results.csv')"
   ]
  },
  {
   "cell_type": "code",
   "execution_count": 168,
   "metadata": {
    "collapsed": false
   },
   "outputs": [
    {
     "name": "stdout",
     "output_type": "stream",
     "text": [
      "<type 'str'>\n"
     ]
    },
    {
     "ename": "AttributeError",
     "evalue": "'str' object has no attribute 'get'",
     "output_type": "error",
     "traceback": [
      "\u001b[0;31m---------------------------------------------------------------------------\u001b[0m",
      "\u001b[0;31mAttributeError\u001b[0m                            Traceback (most recent call last)",
      "\u001b[0;32m<ipython-input-168-d95520877593>\u001b[0m in \u001b[0;36m<module>\u001b[0;34m()\u001b[0m\n\u001b[1;32m     29\u001b[0m \u001b[0;31m#data = read_json('results.json')\u001b[0m\u001b[0;34m\u001b[0m\u001b[0;34m\u001b[0m\u001b[0m\n\u001b[1;32m     30\u001b[0m \u001b[0;31m#print data,type(data)\u001b[0m\u001b[0;34m\u001b[0m\u001b[0;34m\u001b[0m\u001b[0m\n\u001b[0;32m---> 31\u001b[0;31m \u001b[0mwrite_csv\u001b[0m\u001b[0;34m(\u001b[0m\u001b[0mdata\u001b[0m\u001b[0;34m,\u001b[0m\u001b[0;34m'results.csv'\u001b[0m\u001b[0;34m)\u001b[0m\u001b[0;34m\u001b[0m\u001b[0m\n\u001b[0m",
      "\u001b[0;32m<ipython-input-168-d95520877593>\u001b[0m in \u001b[0;36mwrite_csv\u001b[0;34m(data, filename)\u001b[0m\n\u001b[1;32m     12\u001b[0m                 \u001b[0;32mfor\u001b[0m \u001b[0mrow\u001b[0m \u001b[0;32min\u001b[0m \u001b[0mdata\u001b[0m\u001b[0;34m:\u001b[0m\u001b[0;34m\u001b[0m\u001b[0m\n\u001b[1;32m     13\u001b[0m                         \u001b[0;32mprint\u001b[0m \u001b[0mtype\u001b[0m\u001b[0;34m(\u001b[0m\u001b[0mrow\u001b[0m\u001b[0;34m)\u001b[0m\u001b[0;34m\u001b[0m\u001b[0m\n\u001b[0;32m---> 14\u001b[0;31m                         \u001b[0mdw\u001b[0m\u001b[0;34m.\u001b[0m\u001b[0mwriterows\u001b[0m\u001b[0;34m(\u001b[0m\u001b[0mrow\u001b[0m\u001b[0;34m)\u001b[0m\u001b[0;34m\u001b[0m\u001b[0m\n\u001b[0m\u001b[1;32m     15\u001b[0m \u001b[0;32mdef\u001b[0m \u001b[0mflattenjson\u001b[0m\u001b[0;34m(\u001b[0m \u001b[0mb\u001b[0m\u001b[0;34m,\u001b[0m \u001b[0mdelim\u001b[0m \u001b[0;34m)\u001b[0m\u001b[0;34m:\u001b[0m\u001b[0;34m\u001b[0m\u001b[0m\n\u001b[1;32m     16\u001b[0m     \u001b[0mval\u001b[0m \u001b[0;34m=\u001b[0m \u001b[0;34m{\u001b[0m\u001b[0;34m}\u001b[0m\u001b[0;34m\u001b[0m\u001b[0m\n",
      "\u001b[0;32m/Users/hanpoleon/anaconda/lib/python2.7/csv.pyc\u001b[0m in \u001b[0;36mwriterows\u001b[0;34m(self, rowdicts)\u001b[0m\n\u001b[1;32m    155\u001b[0m         \u001b[0mrows\u001b[0m \u001b[0;34m=\u001b[0m \u001b[0;34m[\u001b[0m\u001b[0;34m]\u001b[0m\u001b[0;34m\u001b[0m\u001b[0m\n\u001b[1;32m    156\u001b[0m         \u001b[0;32mfor\u001b[0m \u001b[0mrowdict\u001b[0m \u001b[0;32min\u001b[0m \u001b[0mrowdicts\u001b[0m\u001b[0;34m:\u001b[0m\u001b[0;34m\u001b[0m\u001b[0m\n\u001b[0;32m--> 157\u001b[0;31m             \u001b[0mrows\u001b[0m\u001b[0;34m.\u001b[0m\u001b[0mappend\u001b[0m\u001b[0;34m(\u001b[0m\u001b[0mself\u001b[0m\u001b[0;34m.\u001b[0m\u001b[0m_dict_to_list\u001b[0m\u001b[0;34m(\u001b[0m\u001b[0mrowdict\u001b[0m\u001b[0;34m)\u001b[0m\u001b[0;34m)\u001b[0m\u001b[0;34m\u001b[0m\u001b[0m\n\u001b[0m\u001b[1;32m    158\u001b[0m         \u001b[0;32mreturn\u001b[0m \u001b[0mself\u001b[0m\u001b[0;34m.\u001b[0m\u001b[0mwriter\u001b[0m\u001b[0;34m.\u001b[0m\u001b[0mwriterows\u001b[0m\u001b[0;34m(\u001b[0m\u001b[0mrows\u001b[0m\u001b[0;34m)\u001b[0m\u001b[0;34m\u001b[0m\u001b[0m\n\u001b[1;32m    159\u001b[0m \u001b[0;34m\u001b[0m\u001b[0m\n",
      "\u001b[0;32m/Users/hanpoleon/anaconda/lib/python2.7/csv.pyc\u001b[0m in \u001b[0;36m_dict_to_list\u001b[0;34m(self, rowdict)\u001b[0m\n\u001b[1;32m    147\u001b[0m                 raise ValueError(\"dict contains fields not in fieldnames: \"\n\u001b[1;32m    148\u001b[0m                                  + \", \".join([repr(x) for x in wrong_fields]))\n\u001b[0;32m--> 149\u001b[0;31m         \u001b[0;32mreturn\u001b[0m \u001b[0;34m[\u001b[0m\u001b[0mrowdict\u001b[0m\u001b[0;34m.\u001b[0m\u001b[0mget\u001b[0m\u001b[0;34m(\u001b[0m\u001b[0mkey\u001b[0m\u001b[0;34m,\u001b[0m \u001b[0mself\u001b[0m\u001b[0;34m.\u001b[0m\u001b[0mrestval\u001b[0m\u001b[0;34m)\u001b[0m \u001b[0;32mfor\u001b[0m \u001b[0mkey\u001b[0m \u001b[0;32min\u001b[0m \u001b[0mself\u001b[0m\u001b[0;34m.\u001b[0m\u001b[0mfieldnames\u001b[0m\u001b[0;34m]\u001b[0m\u001b[0;34m\u001b[0m\u001b[0m\n\u001b[0m\u001b[1;32m    150\u001b[0m \u001b[0;34m\u001b[0m\u001b[0m\n\u001b[1;32m    151\u001b[0m     \u001b[0;32mdef\u001b[0m \u001b[0mwriterow\u001b[0m\u001b[0;34m(\u001b[0m\u001b[0mself\u001b[0m\u001b[0;34m,\u001b[0m \u001b[0mrowdict\u001b[0m\u001b[0;34m)\u001b[0m\u001b[0;34m:\u001b[0m\u001b[0;34m\u001b[0m\u001b[0m\n",
      "\u001b[0;31mAttributeError\u001b[0m: 'str' object has no attribute 'get'"
     ]
    }
   ],
   "source": [
    "import unicodecsv as csv\n",
    "import json\n",
    "import ast\n",
    "import yaml\n",
    "\n",
    "def read_json(filename):\n",
    "\treturn yaml.safe_load(open(filename).read())\n",
    "def write_csv(data, filename):\n",
    "\twith open(filename, 'w') as outf:\n",
    "\t\tdw = csv.DictWriter(outf, data.keys(),extrasaction='ignore',encoding='utf-8')\n",
    "\t\tdw.writeheader()\n",
    "\t\tfor row in data:\n",
    "\t\t\tprint type(row)\n",
    "\t\t\tdw.writerows(row)\n",
    "def flattenjson( b, delim ):\n",
    "    val = {}\n",
    "    for i in b.keys():\n",
    "        if isinstance( b[i], dict ):\n",
    "            get = flattenjson( b[i], delim )\n",
    "            for j in get.keys():\n",
    "                val[ i + delim + j ] = get[j]\n",
    "        else:\n",
    "            val[i] = b[i]\n",
    "\n",
    "    return val\n",
    "\n",
    "\n",
    "data = flattenjson(yaml.safe_load(open('results.json').read()),'_')\n",
    "#data = read_json('results.json')\n",
    "#print data,type(data)\n",
    "write_csv(data,'results.csv')"
   ]
  },
  {
   "cell_type": "code",
   "execution_count": 176,
   "metadata": {
    "collapsed": false
   },
   "outputs": [
    {
     "ename": "IndentationError",
     "evalue": "unindent does not match any outer indentation level (<ipython-input-176-7a39c1f16bbb>, line 14)",
     "output_type": "error",
     "traceback": [
      "\u001b[0;36m  File \u001b[0;32m\"<ipython-input-176-7a39c1f16bbb>\"\u001b[0;36m, line \u001b[0;32m14\u001b[0m\n\u001b[0;31m    print type(list1)\u001b[0m\n\u001b[0m                     ^\u001b[0m\n\u001b[0;31mIndentationError\u001b[0m\u001b[0;31m:\u001b[0m unindent does not match any outer indentation level\n"
     ]
    }
   ],
   "source": [
    "import unicodecsv as csv\n",
    "import simplejson\n",
    "import ast\n",
    "import yaml\n",
    "\n",
    "def read_json(filename):\n",
    "\treturn simplejson.loads(open(filename).read())\n",
    "def write_csv(data, filename):\n",
    "\twith open(filename, 'w') as outf:\n",
    "\t\tdw = csv.DictWriter(outf, data.keys(),extrasaction='ignore',encoding='utf-8')\n",
    "\t\tdw.writeheader()\n",
    "\t\tfor row in data:\n",
    "\t\t\tlist1 = dict(row)\n",
    "            print type(list1)\n",
    "\t\t\tdw.writerows(list1)\n",
    "def flattenjson( b, delim ):\n",
    "    val = {}\n",
    "    for i in b.keys():\n",
    "        if isinstance( b[i], dict ):\n",
    "            get = flattenjson( b[i], delim )\n",
    "            for j in get.keys():\n",
    "                val[ i + delim + j ] = get[j]\n",
    "        else:\n",
    "            val[i] = b[i]\n",
    "\n",
    "    return val\n",
    "\n",
    "\n",
    "data = flattenjson(simplejson.loads(open('results.json').read()),'_')\n",
    "#data = read_json('results.json')\n",
    "#print data,type(data)\n",
    "write_csv(data,'results.csv')"
   ]
  },
  {
   "cell_type": "code",
   "execution_count": null,
   "metadata": {
    "collapsed": true
   },
   "outputs": [],
   "source": []
  }
 ],
 "metadata": {
  "kernelspec": {
   "display_name": "Python [default]",
   "language": "python",
   "name": "python2"
  },
  "language_info": {
   "codemirror_mode": {
    "name": "ipython",
    "version": 2
   },
   "file_extension": ".py",
   "mimetype": "text/x-python",
   "name": "python",
   "nbconvert_exporter": "python",
   "pygments_lexer": "ipython2",
   "version": "2.7.12"
  }
 },
 "nbformat": 4,
 "nbformat_minor": 1
}
